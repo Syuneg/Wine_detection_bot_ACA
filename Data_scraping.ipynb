{
 "cells": [
  {
   "cell_type": "code",
   "execution_count": 1,
   "id": "c419d015",
   "metadata": {},
   "outputs": [],
   "source": [
    "from selenium.webdriver.chrome.service import Service\n",
    "from selenium import webdriver\n",
    "from selenium.webdriver.common.by import By\n",
    "from selenium.webdriver.support import expected_conditions as EC\n",
    "from selenium.webdriver.support.ui import WebDriverWait\n",
    "from selenium.webdriver.chrome.options import Options\n",
    "from selenium.common.exceptions import TimeoutException, ElementClickInterceptedException, NoSuchElementException\n",
    "from selenium.webdriver.common.action_chains import ActionChains\n",
    "\n",
    "import time\n",
    "import json"
   ]
  },
  {
   "cell_type": "code",
   "execution_count": 2,
   "id": "b85cd0e5",
   "metadata": {},
   "outputs": [],
   "source": [
    "def get_links(page):\n",
    "    options = Options()\n",
    "    options.add_argument('--ignore-certificate-errors')\n",
    "\n",
    "    service = Service(executable_path=rf'C:\\Users\\syune\\OneDrive\\Desktop\\chromedriver.exe')\n",
    "    driver = webdriver.Chrome(service=service, options=options)\n",
    "    driver.get(page)\n",
    "    driver.maximize_window()\n",
    "    driver.execute_script(\"document.body.style.zoom='80%'\")\n",
    "    time.sleep(10)\n",
    "\n",
    "    # Random click to close ad\n",
    "    actions = ActionChains(driver)\n",
    "    actions.move_by_offset(348 , 23).click().perform()\n",
    "    actions.move_by_offset(-348, -23).perform()\n",
    "\n",
    "    time.sleep(5)\n",
    "    try:\n",
    "        WebDriverWait(driver, 5).until(\n",
    "            EC.element_to_be_clickable((By.XPATH, '//button[@class=\"my_store_close_button\"]'))\n",
    "        )\n",
    "        driver.find_element(By.XPATH, '//button[@class=\"my_store_close_button\"]').click()\n",
    "\n",
    "    except (NoSuchElementException, TimeoutException):\n",
    "        pass \n",
    "\n",
    "    try:\n",
    "        WebDriverWait(driver, 5).until(\n",
    "            EC.element_to_be_clickable((By.XPATH, '//button[@id=\"btn-cookie-allow\"]'))\n",
    "        )\n",
    "        driver.find_element(By.XPATH, '//button[@id=\"btn-cookie-allow\"]').click()\n",
    "\n",
    "    except (NoSuchElementException, TimeoutException):\n",
    "        pass \n",
    "\n",
    "\n",
    "    # Get to the end of page\n",
    "    while True:\n",
    "        try:\n",
    "            try:\n",
    "                iframe = driver.find_element(By.XPATH, '//button[@id=\"loadMore\"]')\n",
    "                # If hidden, break\n",
    "                if \"js-is-hidden\" in iframe.get_attribute(\"class\"):\n",
    "                    print(\"Pagination is hidden. Stopping.\")\n",
    "                    break\n",
    "                ActionChains(driver).scroll_to_element(iframe).perform()\n",
    "            except NoSuchElementException:\n",
    "                print(\"Pagination element not found while trying to scroll. Stopping.\")\n",
    "                break\n",
    "\n",
    "            try:\n",
    "                clickable = WebDriverWait(driver, 5).until(\n",
    "                    EC.element_to_be_clickable((By.XPATH, '//button[@id=\"loadMore\"]'))\n",
    "                )\n",
    "                clickable.click()\n",
    "                print(\"Clicked pagination.\")\n",
    "            except (TimeoutException, ElementClickInterceptedException):\n",
    "                print(\"Pagination element not clickable or blocked. Stopping.\")\n",
    "                break\n",
    "\n",
    "            time.sleep(1)  # small pause to ensure content loaded\n",
    "\n",
    "        except Exception as e:\n",
    "            print(f\"Page finished.\")\n",
    "            break\n",
    "    \n",
    "\n",
    "    # Find all elements with class 'listGridItemInfo'\n",
    "    elements = driver.find_elements(By.CLASS_NAME, \"CoveoResultLink\")\n",
    "\n",
    "    # Extract href attribute from each element (assuming these elements have <a> tags or are <a> themselves)\n",
    "    links = []\n",
    "\n",
    "    for el in elements:\n",
    "        # If the element itself is an <a> tag\n",
    "        if el.tag_name == \"a\":\n",
    "            href = el.get_attribute(\"href\")\n",
    "            if href:\n",
    "                links.append(href)\n",
    "        else:\n",
    "            # If the <a> tag is inside this element\n",
    "            a_tag = el.find_element(By.TAG_NAME, \"a\")\n",
    "            href = a_tag.get_attribute(\"href\")\n",
    "            if href:\n",
    "                links.append(href)\n",
    "\n",
    "    links = links[0::3]\n",
    "\n",
    "    return driver, links"
   ]
  },
  {
   "cell_type": "code",
   "execution_count": 3,
   "id": "b65d819d",
   "metadata": {},
   "outputs": [],
   "source": [
    "def get_info_and_picture(driver, link, folder):\n",
    "    driver.get(link)\n",
    "    time.sleep(3)\n",
    "    \n",
    "    driver.execute_script(\"window.scrollBy(0, 480);\")\n",
    "\n",
    "    product_id = link.rsplit('-', 1)[-1]\n",
    "\n",
    "    name = driver.find_element(By.XPATH, '//div[@class=\"page-title-wrapper product\"]').text\n",
    "\n",
    "    # Default values as None\n",
    "    region = None\n",
    "    brand = None\n",
    "    type = None\n",
    "\n",
    "    # Get all label elements\n",
    "    labels = driver.find_elements(By.CLASS_NAME, \"label\")\n",
    "\n",
    "    for label in labels:\n",
    "        label_text = label.text.strip()\n",
    "\n",
    "        try:\n",
    "            value = label.find_element(By.XPATH, \"./following-sibling::div[@class='value']\").text.strip()\n",
    "        except:\n",
    "            value = None\n",
    "\n",
    "        if label_text == \"Made In\":\n",
    "            region = value\n",
    "        elif label_text == \"By\":\n",
    "            brand = value\n",
    "        elif label_text == \"Varietal\":\n",
    "            type = value\n",
    "\n",
    "    element = WebDriverWait(driver, 10).until(\n",
    "        EC.presence_of_element_located((By.XPATH, '//*[@class=\"fotorama__img\"]'))\n",
    "    )\n",
    "\n",
    "    with open(f'C:/Users/syune/OneDrive/Desktop/Wine_Data/Data/{folder}/images/{product_id}.png', 'wb') as file:\n",
    "        file.write(element.screenshot_as_png)\n",
    "\n",
    "    wine_data = {\n",
    "        \"Name\": name,\n",
    "        \"Brand\": brand,\n",
    "        \"Type\": type,\n",
    "        \"Region\": region\n",
    "    }\n",
    "\n",
    "    with open(f'C:/Users/syune/OneDrive/Desktop/Wine_Data/Data/{folder}/labels/{product_id}.json', \"w\", encoding=\"utf-8\") as f:\n",
    "        json.dump(wine_data, f, indent=4, ensure_ascii=False)"
   ]
  },
  {
   "cell_type": "markdown",
   "id": "7516a71c",
   "metadata": {},
   "source": [
    "### Rose"
   ]
  },
  {
   "cell_type": "code",
   "execution_count": 13,
   "id": "04604a57",
   "metadata": {},
   "outputs": [],
   "source": [
    "all_pages = [\"https://www.lcbo.com/en/products/wine/rose-wine#t=clp-products-wine-ros%C3%A9_wine&sort=relevancy&layout=card\"]"
   ]
  },
  {
   "cell_type": "code",
   "execution_count": 14,
   "id": "6cbfa8d6",
   "metadata": {},
   "outputs": [
    {
     "name": "stdout",
     "output_type": "stream",
     "text": [
      "https://www.lcbo.com/en/products/wine/rose-wine#t=clp-products-wine-ros%C3%A9_wine&sort=relevancy&layout=card\n",
      "Clicked pagination.\n",
      "Clicked pagination.\n",
      "Clicked pagination.\n",
      "Clicked pagination.\n",
      "Clicked pagination.\n",
      "Clicked pagination.\n",
      "Clicked pagination.\n",
      "Page finished.\n",
      "0  pages link count -  354\n",
      "Page done 0 . Last item was:  353\n"
     ]
    }
   ],
   "source": [
    "for x in range(0,len(all_pages)):\n",
    "    print(all_pages[x])\n",
    "    page = all_pages[x]\n",
    "    driver, links = get_links(page)\n",
    "    print(x, \" pages link count - \", len(links))\n",
    "    for i in range(0, len(links)):\n",
    "        link = links[i]\n",
    "        get_info_and_picture(driver, link, folder='Rose')\n",
    "    \n",
    "    print('Page done', x, \". Last item was: \", i)\n",
    "    driver.close()"
   ]
  },
  {
   "cell_type": "markdown",
   "id": "c9f3b288",
   "metadata": {},
   "source": [
    "### Sparkling"
   ]
  },
  {
   "cell_type": "code",
   "execution_count": 15,
   "id": "b3c1186b",
   "metadata": {},
   "outputs": [],
   "source": [
    "all_pages = [\"https://www.lcbo.com/en/products/wine/sparkling-wine#t=clp-products-wine-sparkling_wine&sort=relevancy&layout=card\"]"
   ]
  },
  {
   "cell_type": "code",
   "execution_count": 16,
   "id": "eabd2af5",
   "metadata": {},
   "outputs": [
    {
     "name": "stdout",
     "output_type": "stream",
     "text": [
      "https://www.lcbo.com/en/products/wine/sparkling-wine#t=clp-products-wine-sparkling_wine&sort=relevancy&layout=card\n",
      "Clicked pagination.\n",
      "Clicked pagination.\n",
      "Clicked pagination.\n",
      "Clicked pagination.\n",
      "Clicked pagination.\n",
      "Clicked pagination.\n",
      "Clicked pagination.\n",
      "Clicked pagination.\n",
      "Clicked pagination.\n",
      "Page finished.\n",
      "0  pages link count -  464\n",
      "Page done 0 . Last item was:  463\n"
     ]
    }
   ],
   "source": [
    "for x in range(0,len(all_pages)):\n",
    "    print(all_pages[x])\n",
    "    page = all_pages[x]\n",
    "    driver, links = get_links(page)\n",
    "    print(x, \" pages link count - \", len(links))\n",
    "    for i in range(0, len(links)):\n",
    "        link = links[i]\n",
    "        get_info_and_picture(driver, link, folder='Sparkling')\n",
    "    \n",
    "    print('Page done', x, \". Last item was: \", i)\n",
    "driver.close()"
   ]
  },
  {
   "cell_type": "markdown",
   "id": "c50a4d55",
   "metadata": {},
   "source": [
    "### Champagne"
   ]
  },
  {
   "cell_type": "code",
   "execution_count": 17,
   "id": "2b8479dc",
   "metadata": {},
   "outputs": [],
   "source": [
    "all_pages = [\"https://www.lcbo.com/en/products/wine/champagne#t=clp-products-wine-champagne&sort=relevancy&layout=card\"]"
   ]
  },
  {
   "cell_type": "code",
   "execution_count": 19,
   "id": "1c60e792",
   "metadata": {},
   "outputs": [
    {
     "name": "stdout",
     "output_type": "stream",
     "text": [
      "https://www.lcbo.com/en/products/wine/champagne#t=clp-products-wine-champagne&sort=relevancy&layout=card\n",
      "Clicked pagination.\n",
      "Clicked pagination.\n",
      "Clicked pagination.\n",
      "Clicked pagination.\n",
      "Page finished.\n",
      "0  pages link count -  210\n",
      "Page done 0 . Last item was:  209\n"
     ]
    }
   ],
   "source": [
    "for x in range(0,len(all_pages)):\n",
    "    print(all_pages[x])\n",
    "    page = all_pages[x]\n",
    "    driver, links = get_links(page)\n",
    "    print(x, \" pages link count - \", len(links))\n",
    "    for i in range(0, len(links)):\n",
    "        link = links[i]\n",
    "        get_info_and_picture(driver, link, folder='Champagne')\n",
    "    \n",
    "    print('Page done', x, \". Last item was: \", i)\n",
    "    driver.close()"
   ]
  },
  {
   "cell_type": "markdown",
   "id": "539ee560",
   "metadata": {},
   "source": [
    "### Fortified"
   ]
  },
  {
   "cell_type": "code",
   "execution_count": 20,
   "id": "03b6880a",
   "metadata": {},
   "outputs": [],
   "source": [
    "all_pages = [\"https://www.lcbo.com/en/products/wine/fortified-wine#t=clp-products-wine-fortified_wine&sort=relevancy&layout=card\"]"
   ]
  },
  {
   "cell_type": "code",
   "execution_count": 21,
   "id": "621830b0",
   "metadata": {},
   "outputs": [
    {
     "name": "stdout",
     "output_type": "stream",
     "text": [
      "https://www.lcbo.com/en/products/wine/fortified-wine#t=clp-products-wine-fortified_wine&sort=relevancy&layout=card\n",
      "Clicked pagination.\n",
      "Clicked pagination.\n",
      "Clicked pagination.\n",
      "Clicked pagination.\n",
      "Page finished.\n",
      "0  pages link count -  199\n",
      "Page done 0 . Last item was:  198\n"
     ]
    }
   ],
   "source": [
    "for x in range(0,len(all_pages)):\n",
    "    print(all_pages[x])\n",
    "    page = all_pages[x]\n",
    "    driver, links = get_links(page)\n",
    "    print(x, \" pages link count - \", len(links))\n",
    "    for i in range(0, len(links)):\n",
    "        link = links[i]\n",
    "        get_info_and_picture(driver, link, folder='Fortified')\n",
    "    \n",
    "    print('Page done', x, \". Last item was: \", i)\n",
    "    driver.close()"
   ]
  },
  {
   "cell_type": "markdown",
   "id": "6f17bfe6",
   "metadata": {},
   "source": [
    "### Sake_Rice_wine"
   ]
  },
  {
   "cell_type": "code",
   "execution_count": 22,
   "id": "444d39c3",
   "metadata": {},
   "outputs": [],
   "source": [
    "all_pages = [\"https://www.lcbo.com/en/products/beer-cider/specialty-beer/sake-rice-wine#t=clp-products-wine-sake_%26_rice_wine&sort=relevancy&layout=card\"]"
   ]
  },
  {
   "cell_type": "code",
   "execution_count": 23,
   "id": "40e2f3d0",
   "metadata": {},
   "outputs": [
    {
     "name": "stdout",
     "output_type": "stream",
     "text": [
      "https://www.lcbo.com/en/products/beer-cider/specialty-beer/sake-rice-wine#t=clp-products-wine-sake_%26_rice_wine&sort=relevancy&layout=card\n",
      "Clicked pagination.\n",
      "Clicked pagination.\n",
      "Clicked pagination.\n",
      "Clicked pagination.\n",
      "Clicked pagination.\n",
      "Clicked pagination.\n",
      "Clicked pagination.\n",
      "Page finished.\n",
      "0  pages link count -  356\n",
      "Page done 0 . Last item was:  355\n"
     ]
    }
   ],
   "source": [
    "for x in range(0,len(all_pages)):\n",
    "    print(all_pages[x])\n",
    "    page = all_pages[x]\n",
    "    driver, links = get_links(page)\n",
    "    print(x, \" pages link count - \", len(links))\n",
    "    for i in range(0, len(links)):\n",
    "        link = links[i]\n",
    "        get_info_and_picture(driver, link, folder='Sake_Rice_wine')\n",
    "    \n",
    "    print('Page done', x, \". Last item was: \", i)\n",
    "    driver.close()"
   ]
  },
  {
   "cell_type": "markdown",
   "id": "5d63228b",
   "metadata": {},
   "source": [
    "### Icewine"
   ]
  },
  {
   "cell_type": "code",
   "execution_count": 24,
   "id": "7399fb32",
   "metadata": {},
   "outputs": [],
   "source": [
    "all_pages = [\"https://www.lcbo.com/en/products/wine/icewine#t=clp-products-wine-icewine&sort=relevancy&layout=card\"]"
   ]
  },
  {
   "cell_type": "code",
   "execution_count": 25,
   "id": "f57ecea6",
   "metadata": {},
   "outputs": [
    {
     "name": "stdout",
     "output_type": "stream",
     "text": [
      "https://www.lcbo.com/en/products/wine/icewine#t=clp-products-wine-icewine&sort=relevancy&layout=card\n",
      "Clicked pagination.\n",
      "Page finished.\n",
      "0  pages link count -  51\n",
      "Page done 0 . Last item was:  50\n"
     ]
    }
   ],
   "source": [
    "for x in range(0,len(all_pages)):\n",
    "    print(all_pages[x])\n",
    "    page = all_pages[x]\n",
    "    driver, links = get_links(page)\n",
    "    print(x, \" pages link count - \", len(links))\n",
    "    for i in range(0, len(links)):\n",
    "        link = links[i]\n",
    "        get_info_and_picture(driver, link, folder='Icewine')\n",
    "    \n",
    "    print('Page done', x, \". Last item was: \", i)\n",
    "    driver.close()"
   ]
  },
  {
   "cell_type": "markdown",
   "id": "17c45e0c",
   "metadata": {},
   "source": [
    "### Specialty"
   ]
  },
  {
   "cell_type": "code",
   "execution_count": 26,
   "id": "c807b2b0",
   "metadata": {},
   "outputs": [],
   "source": [
    "all_pages = [\"https://www.lcbo.com/en/products/wine/specialty-wines#t=clp-products-wine-specialty_wines&sort=relevancy&layout=card\"]"
   ]
  },
  {
   "cell_type": "code",
   "execution_count": 27,
   "id": "a50ec115",
   "metadata": {},
   "outputs": [
    {
     "name": "stdout",
     "output_type": "stream",
     "text": [
      "https://www.lcbo.com/en/products/wine/specialty-wines#t=clp-products-wine-specialty_wines&sort=relevancy&layout=card\n",
      "Clicked pagination.\n",
      "Clicked pagination.\n",
      "Page finished.\n",
      "0  pages link count -  144\n",
      "Page done 0 . Last item was:  143\n"
     ]
    }
   ],
   "source": [
    "for x in range(0,len(all_pages)):\n",
    "    print(all_pages[x])\n",
    "    page = all_pages[x]\n",
    "    driver, links = get_links(page)\n",
    "    print(x, \" pages link count - \", len(links))\n",
    "    for i in range(0, len(links)):\n",
    "        link = links[i]\n",
    "        get_info_and_picture(driver, link, folder='Specialty')\n",
    "    \n",
    "    print('Page done', x, \". Last item was: \", i)\n",
    "    driver.close()"
   ]
  },
  {
   "cell_type": "markdown",
   "id": "6e21c15a",
   "metadata": {},
   "source": [
    "### Dessert"
   ]
  },
  {
   "cell_type": "code",
   "execution_count": 28,
   "id": "41b579e2",
   "metadata": {},
   "outputs": [],
   "source": [
    "all_pages = [\"https://www.lcbo.com/en/products/wine/dessert-wine#t=clp-products-wine-dessert_wine&sort=relevancy&layout=card\"]"
   ]
  },
  {
   "cell_type": "code",
   "execution_count": 29,
   "id": "695de5c7",
   "metadata": {},
   "outputs": [
    {
     "name": "stdout",
     "output_type": "stream",
     "text": [
      "https://www.lcbo.com/en/products/wine/dessert-wine#t=clp-products-wine-dessert_wine&sort=relevancy&layout=card\n",
      "Page finished.\n",
      "0  pages link count -  29\n",
      "Page done 0 . Last item was:  28\n"
     ]
    }
   ],
   "source": [
    "for x in range(0,len(all_pages)):\n",
    "    print(all_pages[x])\n",
    "    page = all_pages[x]\n",
    "    driver, links = get_links(page)\n",
    "    print(x, \" pages link count - \", len(links))\n",
    "    for i in range(0, len(links)):\n",
    "        link = links[i]\n",
    "        get_info_and_picture(driver, link, folder='Dessert')\n",
    "    \n",
    "    print('Page done', x, \". Last item was: \", i)\n",
    "    driver.close()"
   ]
  },
  {
   "cell_type": "markdown",
   "id": "42d0bf1a",
   "metadata": {},
   "source": [
    "### White"
   ]
  },
  {
   "cell_type": "code",
   "execution_count": 4,
   "id": "c1fca9f2",
   "metadata": {},
   "outputs": [],
   "source": [
    "all_pages = [\"https://www.lcbo.com/en/products/wine/white-wine#t=clp-products-wine-white_wine&sort=relevancy&layout=card&f:@country_of_manufacture=[France]\", \n",
    "             'https://www.lcbo.com/en/products/wine/white-wine#t=clp-products-wine-white_wine&sort=relevancy&layout=card&f:@country_of_manufacture=[Canada]',\n",
    "             \"https://www.lcbo.com/en/products/wine/white-wine#t=clp-products-wine-white_wine&sort=relevancy&layout=card&f:@country_of_manufacture=[Italy,Greece]\",\n",
    "             'https://www.lcbo.com/en/products/wine/white-wine#t=clp-products-wine-white_wine&sort=relevancy&layout=card&f:@country_of_manufacture=[New%20Zealand,United%20States,Portugal]']"
   ]
  },
  {
   "cell_type": "code",
   "execution_count": 5,
   "id": "bb5db015",
   "metadata": {},
   "outputs": [
    {
     "name": "stdout",
     "output_type": "stream",
     "text": [
      "https://www.lcbo.com/en/products/wine/white-wine#t=clp-products-wine-white_wine&sort=relevancy&layout=card&f:@country_of_manufacture=[France]\n",
      "Clicked pagination.\n",
      "Clicked pagination.\n",
      "Clicked pagination.\n",
      "Clicked pagination.\n",
      "Clicked pagination.\n",
      "Clicked pagination.\n",
      "Clicked pagination.\n",
      "Clicked pagination.\n",
      "Clicked pagination.\n",
      "Clicked pagination.\n",
      "Clicked pagination.\n",
      "Page finished.\n",
      "0  pages link count -  548\n",
      "Page done 0 . Last item was:  181\n",
      "https://www.lcbo.com/en/products/wine/white-wine#t=clp-products-wine-white_wine&sort=relevancy&layout=card&f:@country_of_manufacture=[Canada]\n",
      "Clicked pagination.\n",
      "Clicked pagination.\n",
      "Clicked pagination.\n",
      "Clicked pagination.\n",
      "Clicked pagination.\n",
      "Clicked pagination.\n",
      "Clicked pagination.\n",
      "Clicked pagination.\n",
      "Clicked pagination.\n",
      "Page finished.\n",
      "1  pages link count -  465\n",
      "Page done 1 . Last item was:  154\n",
      "https://www.lcbo.com/en/products/wine/white-wine#t=clp-products-wine-white_wine&sort=relevancy&layout=card&f:@country_of_manufacture=[Italy,Greece]\n",
      "Clicked pagination.\n",
      "Clicked pagination.\n",
      "Clicked pagination.\n",
      "Clicked pagination.\n",
      "Clicked pagination.\n",
      "Clicked pagination.\n",
      "Clicked pagination.\n",
      "Clicked pagination.\n",
      "Clicked pagination.\n",
      "Clicked pagination.\n",
      "Page finished.\n",
      "2  pages link count -  513\n",
      "Page done 2 . Last item was:  170\n",
      "https://www.lcbo.com/en/products/wine/white-wine#t=clp-products-wine-white_wine&sort=relevancy&layout=card&f:@country_of_manufacture=[New%20Zealand,United%20States,Portugal]\n",
      "Clicked pagination.\n",
      "Clicked pagination.\n",
      "Clicked pagination.\n",
      "Clicked pagination.\n",
      "Clicked pagination.\n",
      "Clicked pagination.\n",
      "Clicked pagination.\n",
      "Clicked pagination.\n",
      "Page finished.\n",
      "3  pages link count -  429\n",
      "Page done 3 . Last item was:  142\n"
     ]
    }
   ],
   "source": [
    "for x in range(0,len(all_pages)):\n",
    "    print(all_pages[x])\n",
    "    page = all_pages[x]\n",
    "    driver, links = get_links(page)\n",
    "    print(x, \" pages link count - \", len(links))\n",
    "    if len(links) >= 200:\n",
    "        lenght = len(links) / 3\n",
    "        for i in range(0, int(lenght)):\n",
    "            link = links[i]\n",
    "            get_info_and_picture(driver, link, folder='White')\n",
    "    else:\n",
    "        for i in range(0, len(links)):\n",
    "            link = links[i]\n",
    "            get_info_and_picture(driver, link, folder='White')\n",
    "    \n",
    "    print('Page done', x, \". Last item was: \", i)\n",
    "    driver.close()"
   ]
  },
  {
   "cell_type": "code",
   "execution_count": 6,
   "id": "5b445931",
   "metadata": {},
   "outputs": [],
   "source": [
    "all_pages = ['https://www.lcbo.com/en/products/wine/white-wine#t=clp-products-wine-white_wine&sort=relevancy&layout=card&f:@country_of_manufacture=[Germany,South%20Africa,Australia,Spain,Austria]',\n",
    "             \"https://www.lcbo.com/en/products/wine/white-wine#t=clp-products-wine-white_wine&sort=relevancy&layout=card&f:@country_of_manufacture=[Chile,Argentina,Hungary,Georgia,Israel,Croatia,Slovenia]\",\n",
    "             'https://www.lcbo.com/en/products/wine/white-wine#t=clp-products-wine-white_wine&sort=relevancy&layout=card&f:@country_of_manufacture=[Armenia,Romania,Lebanon,Uruguay,Ukraine,China,Moldova,India,Serbia]']"
   ]
  },
  {
   "cell_type": "code",
   "execution_count": 7,
   "id": "fb76b4eb",
   "metadata": {},
   "outputs": [
    {
     "name": "stdout",
     "output_type": "stream",
     "text": [
      "https://www.lcbo.com/en/products/wine/white-wine#t=clp-products-wine-white_wine&sort=relevancy&layout=card&f:@country_of_manufacture=[Germany,South%20Africa,Australia,Spain,Austria]\n",
      "Clicked pagination.\n",
      "Clicked pagination.\n",
      "Clicked pagination.\n",
      "Clicked pagination.\n",
      "Clicked pagination.\n",
      "Clicked pagination.\n",
      "Clicked pagination.\n",
      "Clicked pagination.\n",
      "Clicked pagination.\n",
      "Clicked pagination.\n",
      "Page finished.\n",
      "0  pages link count -  487\n",
      "Page done 0 . Last item was:  242\n",
      "https://www.lcbo.com/en/products/wine/white-wine#t=clp-products-wine-white_wine&sort=relevancy&layout=card&f:@country_of_manufacture=[Chile,Argentina,Hungary,Georgia,Israel,Croatia,Slovenia]\n",
      "Clicked pagination.\n",
      "Clicked pagination.\n",
      "Clicked pagination.\n",
      "Clicked pagination.\n",
      "Clicked pagination.\n",
      "Page finished.\n",
      "1  pages link count -  256\n",
      "Page done 1 . Last item was:  127\n",
      "https://www.lcbo.com/en/products/wine/white-wine#t=clp-products-wine-white_wine&sort=relevancy&layout=card&f:@country_of_manufacture=[Armenia,Romania,Lebanon,Uruguay,Ukraine,China,Moldova,India,Serbia]\n",
      "Page finished.\n",
      "2  pages link count -  25\n",
      "Page done 2 . Last item was:  24\n"
     ]
    }
   ],
   "source": [
    "for x in range(0,len(all_pages)):\n",
    "    print(all_pages[x])\n",
    "    page = all_pages[x]\n",
    "    driver, links = get_links(page)\n",
    "    print(x, \" pages link count - \", len(links))\n",
    "    if len(links) >= 100:\n",
    "        lenght = len(links) / 2\n",
    "        for i in range(0, int(lenght)):\n",
    "            link = links[i]\n",
    "            get_info_and_picture(driver, link, folder='White')\n",
    "    \n",
    "    else:\n",
    "        for i in range(0, len(links)):\n",
    "            link = links[i]\n",
    "            get_info_and_picture(driver, link, folder='White')\n",
    "    \n",
    "    print('Page done', x, \". Last item was: \", i)\n",
    "    driver.close()"
   ]
  },
  {
   "cell_type": "markdown",
   "id": "e596a75f",
   "metadata": {},
   "source": [
    "### Red"
   ]
  },
  {
   "cell_type": "code",
   "execution_count": 8,
   "id": "13d73287",
   "metadata": {},
   "outputs": [],
   "source": [
    "all_pages = [\"https://www.lcbo.com/en/products/wine/red-wine#t=clp-products-wine-red_wine&sort=relevancy&layout=card&f:@country_of_manufacture=[France]&f:@lcbo_region_name=[Bordeaux]\",\n",
    "             \"https://www.lcbo.com/en/products/wine/red-wine#t=clp-products-wine-red_wine&sort=relevancy&layout=card&f:@country_of_manufacture=[France]&f:@lcbo_region_name=[Burgundy,Rh%C3%B4ne]\",\n",
    "             \"https://www.lcbo.com/en/products/wine/red-wine#t=clp-products-wine-red_wine&sort=relevancy&layout=card&f:@country_of_manufacture=[France]&f:@lcbo_region_name=[Languedoc,Beaujolais,South%20of%20France,Loire]\",\n",
    "             \"https://www.lcbo.com/en/products/wine/red-wine#t=clp-products-wine-red_wine&sort=relevancy&layout=card&f:@country_of_manufacture=[Italy]&f:@lcbo_region_name=[Tuscany]\",\n",
    "             \"https://www.lcbo.com/en/products/wine/red-wine#t=clp-products-wine-red_wine&sort=relevancy&layout=card&f:@country_of_manufacture=[Italy]&f:@lcbo_region_name=[Piedmont,Veneto,Sicily,Puglia,Abruzzo,Umbria]\",\n",
    "             \"https://www.lcbo.com/en/products/wine/red-wine#t=clp-products-wine-red_wine&sort=relevancy&layout=card&f:@country_of_manufacture=[Canada]\",\n",
    "             \"https://www.lcbo.com/en/products/wine/red-wine#t=clp-products-wine-red_wine&sort=relevancy&layout=card&f:@country_of_manufacture=[Australia]\",\n",
    "             \"https://www.lcbo.com/en/products/wine/red-wine#t=clp-products-wine-red_wine&sort=relevancy&layout=card&f:@country_of_manufacture=[United%20States]\",\n",
    "             \"https://www.lcbo.com/en/products/wine/red-wine#t=clp-products-wine-red_wine&sort=relevancy&layout=card&f:@country_of_manufacture=[Spain]\",\n",
    "             \"https://www.lcbo.com/en/products/wine/red-wine#t=clp-products-wine-red_wine&sort=relevancy&layout=card&f:@country_of_manufacture=[Portugal]\",\n",
    "             \"https://www.lcbo.com/en/products/wine/red-wine#t=clp-products-wine-red_wine&sort=relevancy&layout=card&f:@country_of_manufacture=[Argentina]\",\n",
    "             \"https://www.lcbo.com/en/products/wine/red-wine#t=clp-products-wine-red_wine&sort=relevancy&layout=card&f:@country_of_manufacture=[Chile,Greece]\",\n",
    "             \"https://www.lcbo.com/en/products/wine/red-wine#t=clp-products-wine-red_wine&sort=relevancy&layout=card&f:@country_of_manufacture=[South%20Africa,Israel,New%20Zealand,Georgia]\",\n",
    "             \"https://www.lcbo.com/en/products/wine/red-wine#t=clp-products-wine-red_wine&sort=relevancy&layout=card&f:@country_of_manufacture=[Croatia,Austria,Hungary,Germany,Armenia,Lebanon]\"]"
   ]
  },
  {
   "cell_type": "code",
   "execution_count": 9,
   "id": "b5be2f16",
   "metadata": {},
   "outputs": [
    {
     "name": "stdout",
     "output_type": "stream",
     "text": [
      "https://www.lcbo.com/en/products/wine/red-wine#t=clp-products-wine-red_wine&sort=relevancy&layout=card&f:@country_of_manufacture=[France]&f:@lcbo_region_name=[Bordeaux]\n",
      "Clicked pagination.\n",
      "Clicked pagination.\n",
      "Clicked pagination.\n",
      "Clicked pagination.\n",
      "Clicked pagination.\n",
      "Clicked pagination.\n",
      "Clicked pagination.\n",
      "Clicked pagination.\n",
      "Clicked pagination.\n",
      "Clicked pagination.\n",
      "Page finished.\n",
      "0  pages link count -  500\n",
      "Page done 0 . Last item was:  165\n",
      "https://www.lcbo.com/en/products/wine/red-wine#t=clp-products-wine-red_wine&sort=relevancy&layout=card&f:@country_of_manufacture=[France]&f:@lcbo_region_name=[Burgundy,Rh%C3%B4ne]\n",
      "Clicked pagination.\n",
      "Clicked pagination.\n",
      "Clicked pagination.\n",
      "Clicked pagination.\n",
      "Clicked pagination.\n",
      "Clicked pagination.\n",
      "Clicked pagination.\n",
      "Clicked pagination.\n",
      "Clicked pagination.\n",
      "Page finished.\n",
      "1  pages link count -  473\n",
      "Page done 1 . Last item was:  156\n",
      "https://www.lcbo.com/en/products/wine/red-wine#t=clp-products-wine-red_wine&sort=relevancy&layout=card&f:@country_of_manufacture=[France]&f:@lcbo_region_name=[Languedoc,Beaujolais,South%20of%20France,Loire]\n",
      "Clicked pagination.\n",
      "Page finished.\n",
      "2  pages link count -  93\n",
      "Page done 2 . Last item was:  92\n",
      "https://www.lcbo.com/en/products/wine/red-wine#t=clp-products-wine-red_wine&sort=relevancy&layout=card&f:@country_of_manufacture=[Italy]&f:@lcbo_region_name=[Tuscany]\n",
      "Clicked pagination.\n",
      "Clicked pagination.\n",
      "Clicked pagination.\n",
      "Clicked pagination.\n",
      "Clicked pagination.\n",
      "Clicked pagination.\n",
      "Clicked pagination.\n",
      "Clicked pagination.\n",
      "Clicked pagination.\n",
      "Clicked pagination.\n",
      "Page finished.\n",
      "3  pages link count -  489\n",
      "Page done 3 . Last item was:  162\n",
      "https://www.lcbo.com/en/products/wine/red-wine#t=clp-products-wine-red_wine&sort=relevancy&layout=card&f:@country_of_manufacture=[Italy]&f:@lcbo_region_name=[Piedmont,Veneto,Sicily,Puglia,Abruzzo,Umbria]\n",
      "Clicked pagination.\n",
      "Clicked pagination.\n",
      "Clicked pagination.\n",
      "Clicked pagination.\n",
      "Clicked pagination.\n",
      "Clicked pagination.\n",
      "Clicked pagination.\n",
      "Clicked pagination.\n",
      "Clicked pagination.\n",
      "Clicked pagination.\n",
      "Clicked pagination.\n",
      "Page finished.\n",
      "4  pages link count -  484\n",
      "Page done 4 . Last item was:  160\n",
      "https://www.lcbo.com/en/products/wine/red-wine#t=clp-products-wine-red_wine&sort=relevancy&layout=card&f:@country_of_manufacture=[Canada]\n",
      "Clicked pagination.\n",
      "Clicked pagination.\n",
      "Clicked pagination.\n",
      "Clicked pagination.\n",
      "Clicked pagination.\n",
      "Clicked pagination.\n",
      "Clicked pagination.\n",
      "Clicked pagination.\n",
      "Page finished.\n",
      "5  pages link count -  418\n",
      "Page done 5 . Last item was:  138\n",
      "https://www.lcbo.com/en/products/wine/red-wine#t=clp-products-wine-red_wine&sort=relevancy&layout=card&f:@country_of_manufacture=[Australia]\n",
      "Clicked pagination.\n",
      "Clicked pagination.\n",
      "Clicked pagination.\n",
      "Clicked pagination.\n",
      "Clicked pagination.\n",
      "Clicked pagination.\n",
      "Page finished.\n",
      "6  pages link count -  306\n",
      "Page done 6 . Last item was:  101\n",
      "https://www.lcbo.com/en/products/wine/red-wine#t=clp-products-wine-red_wine&sort=relevancy&layout=card&f:@country_of_manufacture=[United%20States]\n",
      "Clicked pagination.\n",
      "Clicked pagination.\n",
      "Clicked pagination.\n",
      "Clicked pagination.\n",
      "Clicked pagination.\n",
      "Page finished.\n",
      "7  pages link count -  287\n",
      "Page done 7 . Last item was:  94\n",
      "https://www.lcbo.com/en/products/wine/red-wine#t=clp-products-wine-red_wine&sort=relevancy&layout=card&f:@country_of_manufacture=[Spain]\n",
      "Clicked pagination.\n",
      "Clicked pagination.\n",
      "Clicked pagination.\n",
      "Clicked pagination.\n",
      "Clicked pagination.\n",
      "Clicked pagination.\n",
      "Page finished.\n",
      "8  pages link count -  281\n",
      "Page done 8 . Last item was:  92\n",
      "https://www.lcbo.com/en/products/wine/red-wine#t=clp-products-wine-red_wine&sort=relevancy&layout=card&f:@country_of_manufacture=[Portugal]\n",
      "Clicked pagination.\n",
      "Clicked pagination.\n",
      "Clicked pagination.\n",
      "Clicked pagination.\n",
      "Page finished.\n",
      "9  pages link count -  234\n",
      "Page done 9 . Last item was:  77\n",
      "https://www.lcbo.com/en/products/wine/red-wine#t=clp-products-wine-red_wine&sort=relevancy&layout=card&f:@country_of_manufacture=[Argentina]\n",
      "Clicked pagination.\n",
      "Clicked pagination.\n",
      "Clicked pagination.\n",
      "Clicked pagination.\n",
      "Page finished.\n",
      "10  pages link count -  202\n",
      "Page done 10 . Last item was:  66\n",
      "https://www.lcbo.com/en/products/wine/red-wine#t=clp-products-wine-red_wine&sort=relevancy&layout=card&f:@country_of_manufacture=[Chile,Greece]\n",
      "Clicked pagination.\n",
      "Clicked pagination.\n",
      "Clicked pagination.\n",
      "Clicked pagination.\n",
      "Clicked pagination.\n",
      "Clicked pagination.\n",
      "Clicked pagination.\n",
      "Page finished.\n",
      "11  pages link count -  348\n",
      "Page done 11 . Last item was:  115\n",
      "https://www.lcbo.com/en/products/wine/red-wine#t=clp-products-wine-red_wine&sort=relevancy&layout=card&f:@country_of_manufacture=[South%20Africa,Israel,New%20Zealand,Georgia]\n",
      "Clicked pagination.\n",
      "Clicked pagination.\n",
      "Clicked pagination.\n",
      "Clicked pagination.\n",
      "Clicked pagination.\n",
      "Clicked pagination.\n",
      "Page finished.\n",
      "12  pages link count -  291\n",
      "Page done 12 . Last item was:  96\n",
      "https://www.lcbo.com/en/products/wine/red-wine#t=clp-products-wine-red_wine&sort=relevancy&layout=card&f:@country_of_manufacture=[Croatia,Austria,Hungary,Germany,Armenia,Lebanon]\n",
      "Clicked pagination.\n",
      "Clicked pagination.\n",
      "Page finished.\n",
      "13  pages link count -  124\n",
      "Page done 13 . Last item was:  40\n"
     ]
    }
   ],
   "source": [
    "for x in range(0,len(all_pages)):\n",
    "    print(all_pages[x])\n",
    "    page = all_pages[x]\n",
    "    driver, links = get_links(page)\n",
    "    print(x, \" pages link count - \", len(links))\n",
    "    if len(links) >= 100:\n",
    "        lenght = len(links) / 3\n",
    "        for i in range(0, int(lenght)):\n",
    "            link = links[i]\n",
    "            get_info_and_picture(driver, link, folder='Red')\n",
    "    \n",
    "    else:\n",
    "        for i in range(0, len(links)):\n",
    "            link = links[i]\n",
    "            get_info_and_picture(driver, link, folder='Red')\n",
    "    \n",
    "    print('Page done', x, \". Last item was: \", i)\n",
    "    driver.close()"
   ]
  },
  {
   "cell_type": "code",
   "execution_count": null,
   "id": "b91a1c8d",
   "metadata": {},
   "outputs": [],
   "source": []
  }
 ],
 "metadata": {
  "kernelspec": {
   "display_name": "Python 3",
   "language": "python",
   "name": "python3"
  },
  "language_info": {
   "codemirror_mode": {
    "name": "ipython",
    "version": 3
   },
   "file_extension": ".py",
   "mimetype": "text/x-python",
   "name": "python",
   "nbconvert_exporter": "python",
   "pygments_lexer": "ipython3",
   "version": "3.12.10"
  }
 },
 "nbformat": 4,
 "nbformat_minor": 5
}
