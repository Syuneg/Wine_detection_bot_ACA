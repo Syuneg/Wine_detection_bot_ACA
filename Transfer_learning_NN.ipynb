{
 "cells": [
  {
   "cell_type": "code",
   "execution_count": 1,
   "metadata": {
    "colab": {
     "base_uri": "https://localhost:8080/"
    },
    "executionInfo": {
     "elapsed": 1409,
     "status": "ok",
     "timestamp": 1755945270863,
     "user": {
      "displayName": "Syune Gevorgyan",
      "userId": "11652322420471933876"
     },
     "user_tz": -240
    },
    "id": "zr7CkriIXSma",
    "outputId": "9a1ce42e-ca14-4bcd-8eac-c3de3aeab755"
   },
   "outputs": [
    {
     "name": "stdout",
     "output_type": "stream",
     "text": [
      "Drive already mounted at /content/drive; to attempt to forcibly remount, call drive.mount(\"/content/drive\", force_remount=True).\n"
     ]
    }
   ],
   "source": [
    "from google.colab import drive\n",
    "\n",
    "# Mount Google Drive\n",
    "\n",
    "drive.mount('/content/drive')"
   ]
  },
  {
   "cell_type": "markdown",
   "metadata": {
    "id": "DtJsNPiayzeB"
   },
   "source": [
    "### Libraries"
   ]
  },
  {
   "cell_type": "code",
   "execution_count": 2,
   "metadata": {
    "colab": {
     "base_uri": "https://localhost:8080/"
    },
    "executionInfo": {
     "elapsed": 9500,
     "status": "ok",
     "timestamp": 1755945280361,
     "user": {
      "displayName": "Syune Gevorgyan",
      "userId": "11652322420471933876"
     },
     "user_tz": -240
    },
    "id": "uONpxCIPLxpU",
    "outputId": "efdbb75a-982a-433c-ec3c-969f50c7abb1"
   },
   "outputs": [
    {
     "name": "stdout",
     "output_type": "stream",
     "text": [
      "Using device: cuda\n"
     ]
    }
   ],
   "source": [
    "import torch\n",
    "import torch.nn as nn\n",
    "import torch.optim as optim\n",
    "from torch.utils.data import Dataset, DataLoader\n",
    "from torchvision import transforms, models\n",
    "from torchvision.datasets import ImageFolder\n",
    "from sklearn.model_selection import train_test_split\n",
    "from sklearn.metrics import classification_report, confusion_matrix\n",
    "import pandas as pd\n",
    "import numpy as np\n",
    "import matplotlib.pyplot as plt\n",
    "import seaborn as sns\n",
    "import os\n",
    "from PIL import Image\n",
    "import cv2\n",
    "from tqdm import tqdm\n",
    "import warnings\n",
    "warnings.filterwarnings('ignore')\n",
    "\n",
    "# Set device\n",
    "device = torch.device(\"cuda\" if torch.cuda.is_available() else \"cpu\")\n",
    "print(f\"Using device: {device}\")"
   ]
  },
  {
   "cell_type": "markdown",
   "metadata": {
    "id": "wPvK9tQVsX6V"
   },
   "source": [
    "## Data Preparation and Augmentation\n"
   ]
  },
  {
   "cell_type": "code",
   "execution_count": null,
   "metadata": {
    "colab": {
     "base_uri": "https://localhost:8080/"
    },
    "executionInfo": {
     "elapsed": 1808,
     "status": "ok",
     "timestamp": 1755945287921,
     "user": {
      "displayName": "Syune Gevorgyan",
      "userId": "11652322420471933876"
     },
     "user_tz": -240
    },
    "id": "ET83W_36BQnh",
    "outputId": "57348975-8252-463e-d7b6-efbe8dd38b68"
   },
   "outputs": [
    {
     "name": "stdout",
     "output_type": "stream",
     "text": [
      "Successfully read, cleaned, and saved the data to /content/drive/MyDrive/Wine_Data/wine_data_1.xlsx\n",
      "Original number of rows: 4908\n",
      "Number of rows after removing null image paths: 4908\n"
     ]
    }
   ],
   "source": [
    "excel_file_path = '/content/drive/MyDrive/Wine_Data/wine_data_1.xlsx'\n",
    "\n",
    "try:\n",
    "    df = pd.read_excel(excel_file_path)\n",
    "\n",
    "    df_cleaned = df.dropna(subset=['image_path'])\n",
    "    df_cleaned = df_cleaned[df_cleaned['image_path'].str.strip() != '']\n",
    "\n",
    "\n",
    "    df_cleaned.to_excel(excel_file_path, index=False)\n",
    "\n",
    "    print(f\"Successfully read, cleaned, and saved the data to {excel_file_path}\")\n",
    "    print(f\"Original number of rows: {len(df)}\")\n",
    "    print(f\"Number of rows after removing null image paths: {len(df_cleaned)}\")\n",
    "\n",
    "except FileNotFoundError:\n",
    "    print(f\"Error: The file was not found at {excel_file_path}\")\n",
    "except KeyError:\n",
    "    print(\"Error: 'image_path' column not found in the Excel file.\")\n",
    "except Exception as e:\n",
    "    print(f\"An error occurred: {e}\")"
   ]
  },
  {
   "cell_type": "code",
   "execution_count": 2,
   "metadata": {
    "executionInfo": {
     "elapsed": 52,
     "status": "ok",
     "timestamp": 1755948975109,
     "user": {
      "displayName": "Syune Gevorgyan",
      "userId": "11652322420471933876"
     },
     "user_tz": -240
    },
    "id": "oczrdOIhsh79"
   },
   "outputs": [],
   "source": [
    "class WineDataset(Dataset):\n",
    "    def __init__(self, root_dir, transform=None, csv_file=None):\n",
    "        self.root_dir = root_dir\n",
    "        self.transform = transform\n",
    "\n",
    "        if csv_file:\n",
    "            self.df = pd.read_excel(csv_file)\n",
    "            self.image_paths = self.df['image_path'].values\n",
    "            self.labels = self.df['Type'].values\n",
    "\n",
    "            self.class_to_idx = {'Red': 0, 'White': 1, 'Rose': 2, 'Specialty': 3, 'Sparkling': 4, 'Sake_Rice_wine' : 5, 'Icewine': 6, 'Fortified': 7, 'Dessert': 8, 'Champagne': 9}\n",
    "            self.idx_to_class = {0: 'Red', 1: 'White', 2: 'Rose', 3: 'Specialty', 4: 'Sparkling', 5: 'Sake_Rice_wine', 6: 'Icewine', 7: 'Fortified', 8: 'Dessert', 9: 'Champagne'}\n",
    "            self.classes = list(self.class_to_idx.keys())\n",
    "\n",
    "        else:\n",
    "            self.dataset = ImageFolder(root_dir)\n",
    "            self.image_paths = [s[0] for s in self.dataset.samples]\n",
    "            self.labels = [s[1] for s in self.dataset.samples]\n",
    "            self.classes = self.dataset.classes\n",
    "            self.class_to_idx = self.dataset.class_to_idx\n",
    "\n",
    "\n",
    "    def __len__(self):\n",
    "        return len(self.image_paths)\n",
    "\n",
    "    def __getitem__(self, idx):\n",
    "        if torch.is_tensor(idx):\n",
    "            idx = idx.tolist()\n",
    "\n",
    "        if hasattr(self, 'df'):\n",
    "            img_path = self.image_paths[idx]\n",
    "        else:\n",
    "            img_path = os.path.join(self.root_dir, self.image_paths[idx])\n",
    "\n",
    "        image = Image.open(img_path).convert('RGB')\n",
    "        label = self.class_to_idx[self.labels[idx]]\n",
    "\n",
    "        if self.transform:\n",
    "            image = self.transform(image)\n",
    "\n",
    "        return image, label\n",
    "\n",
    "# Define transforms\n",
    "def get_transforms(augment=False):\n",
    "    base_transforms = [\n",
    "        transforms.Resize((224, 224)),\n",
    "        transforms.ToTensor(),\n",
    "        transforms.Normalize(mean=[0.485, 0.456, 0.406],\n",
    "                           std=[0.229, 0.224, 0.225])\n",
    "    ]\n",
    "\n",
    "    if augment:\n",
    "        augmentations = [\n",
    "            transforms.RandomHorizontalFlip(p=0.5),\n",
    "            transforms.RandomRotation(10),\n",
    "            transforms.ColorJitter(brightness=0.2, contrast=0.2, saturation=0.2),\n",
    "            transforms.RandomAffine(degrees=0, translate=(0.1, 0.1)),\n",
    "            transforms.RandomPerspective(distortion_scale=0.1, p=0.3)\n",
    "        ]\n",
    "        return transforms.Compose(augmentations + base_transforms)\n",
    "    else:\n",
    "        return transforms.Compose(base_transforms)\n",
    "\n",
    "# Handle class imbalance with weighted sampling\n",
    "def get_class_weights(dataset):\n",
    "    label_indices = [dataset.class_to_idx[label] for label in dataset.labels]\n",
    "    class_counts = np.bincount(label_indices)\n",
    "    total_samples = len(dataset)\n",
    "    num_classes = len(class_counts)\n",
    "    weights = [total_samples / (num_classes * count) for count in class_counts]\n",
    "    sample_weights = [weights[label_indices[i]] for i in range(len(label_indices))]\n",
    "    return torch.DoubleTensor(sample_weights)"
   ]
  },
  {
   "cell_type": "markdown",
   "metadata": {
    "id": "-Cu8RKgwvfXT"
   },
   "source": [
    "## Data Loading and Splitting"
   ]
  },
  {
   "cell_type": "code",
   "execution_count": 3,
   "metadata": {
    "executionInfo": {
     "elapsed": 7,
     "status": "ok",
     "timestamp": 1755945287991,
     "user": {
      "displayName": "Syune Gevorgyan",
      "userId": "11652322420471933876"
     },
     "user_tz": -240
    },
    "id": "9Ida8r4BLxjS"
   },
   "outputs": [],
   "source": [
    "def prepare_data(data_path, csv_file=None, batch_size=32):\n",
    "    full_dataset = WineDataset(data_path, get_transforms(augment=False), csv_file)\n",
    "\n",
    "    train_idx, temp_idx = train_test_split(\n",
    "        range(len(full_dataset)),\n",
    "        test_size=0.3,\n",
    "        stratify=full_dataset.labels,\n",
    "        random_state=42\n",
    "    )\n",
    "    val_idx, test_idx = train_test_split(\n",
    "        temp_idx,\n",
    "        test_size=0.5,\n",
    "        stratify=[full_dataset.labels[i] for i in temp_idx],\n",
    "        random_state=42\n",
    "    )\n",
    "\n",
    "    train_dataset = torch.utils.data.Subset(\n",
    "        WineDataset(data_path, get_transforms(augment=True), csv_file),\n",
    "        train_idx\n",
    "    )\n",
    "    val_dataset = torch.utils.data.Subset(\n",
    "        WineDataset(data_path, get_transforms(augment=False), csv_file),\n",
    "        val_idx\n",
    "    )\n",
    "    test_dataset = torch.utils.data.Subset(\n",
    "        WineDataset(data_path, get_transforms(augment=False), csv_file),\n",
    "        test_idx\n",
    "    )\n",
    "\n",
    "    sample_weights = get_class_weights(full_dataset)\n",
    "    train_weights = sample_weights[train_idx]\n",
    "    weighted_sampler = torch.utils.data.WeightedRandomSampler(\n",
    "        train_weights, len(train_weights)\n",
    "    )\n",
    "\n",
    "    train_loader = DataLoader(\n",
    "        train_dataset,\n",
    "        batch_size=batch_size,\n",
    "        sampler=weighted_sampler,\n",
    "        num_workers=4\n",
    "    )\n",
    "    val_loader = DataLoader(\n",
    "        val_dataset,\n",
    "        batch_size=batch_size,\n",
    "        shuffle=False,\n",
    "        num_workers=4\n",
    "    )\n",
    "    test_loader = DataLoader(\n",
    "        test_dataset,\n",
    "        batch_size=batch_size,\n",
    "        shuffle=False,\n",
    "        num_workers=4\n",
    "    )\n",
    "\n",
    "    return train_loader, val_loader, test_loader, full_dataset.classes"
   ]
  },
  {
   "cell_type": "markdown",
   "metadata": {
    "id": "2aTzzJa9stxJ"
   },
   "source": [
    "## Model Definition with Transfer Learning\n"
   ]
  },
  {
   "cell_type": "code",
   "execution_count": 4,
   "metadata": {
    "executionInfo": {
     "elapsed": 0,
     "status": "ok",
     "timestamp": 1755945287993,
     "user": {
      "displayName": "Syune Gevorgyan",
      "userId": "11652322420471933876"
     },
     "user_tz": -240
    },
    "id": "5YRAy8r4Lxgn"
   },
   "outputs": [],
   "source": [
    "def create_model(model_name='resnet50', num_classes=3, fine_tune=True):\n",
    "    if model_name == 'resnet50':\n",
    "        model = models.resnet50(pretrained=True)\n",
    "    elif model_name == 'efficientnet':\n",
    "        model = models.efficientnet_b0(pretrained=True)\n",
    "    elif model_name == 'mobilenet':\n",
    "        model = models.mobilenet_v2(pretrained=True)\n",
    "    else:\n",
    "        raise ValueError(f\"Unsupported model: {model_name}\")\n",
    "\n",
    "    if not fine_tune:\n",
    "        for param in model.parameters():\n",
    "            param.requires_grad = False\n",
    "\n",
    "    if hasattr(model, 'fc'):\n",
    "        num_ftrs = model.fc.in_features\n",
    "        model.fc = nn.Linear(num_ftrs, num_classes)\n",
    "    elif hasattr(model, 'classifier'):\n",
    "        if hasattr(model.classifier, '1'):\n",
    "            num_ftrs = model.classifier[1].in_features\n",
    "            model.classifier[1] = nn.Linear(num_ftrs, num_classes)\n",
    "        else:\n",
    "            num_ftrs = model.classifier.in_features\n",
    "            model.classifier = nn.Linear(num_ftrs, num_classes)\n",
    "\n",
    "    return model.to(device)"
   ]
  },
  {
   "cell_type": "markdown",
   "metadata": {
    "id": "3wNZoVFGsx4x"
   },
   "source": [
    "## Training Function"
   ]
  },
  {
   "cell_type": "code",
   "execution_count": 5,
   "metadata": {
    "executionInfo": {
     "elapsed": 9,
     "status": "ok",
     "timestamp": 1755945288003,
     "user": {
      "displayName": "Syune Gevorgyan",
      "userId": "11652322420471933876"
     },
     "user_tz": -240
    },
    "id": "sMTaaBCILxdx"
   },
   "outputs": [],
   "source": [
    "def train_model(model, train_loader, val_loader, num_epochs=25, lr=0.001):\n",
    "    criterion = nn.CrossEntropyLoss()\n",
    "    optimizer = optim.Adam(\n",
    "        filter(lambda p: p.requires_grad, model.parameters()),\n",
    "        lr=lr\n",
    "    )\n",
    "    scheduler = optim.lr_scheduler.ReduceLROnPlateau(\n",
    "        optimizer, mode='max', patience=5, factor=0.5\n",
    "    )\n",
    "\n",
    "    train_losses, val_losses = [], []\n",
    "    train_accs, val_accs = [], []\n",
    "    best_acc = 0.0\n",
    "\n",
    "    for epoch in range(num_epochs):\n",
    "        model.train()\n",
    "        running_loss = 0.0\n",
    "        correct = 0\n",
    "        total = 0\n",
    "\n",
    "        pbar = tqdm(train_loader, desc=f'Epoch {epoch+1}/{num_epochs} [Train]')\n",
    "        for inputs, labels in pbar:\n",
    "            inputs, labels = inputs.to(device), labels.to(device)\n",
    "\n",
    "            optimizer.zero_grad()\n",
    "            outputs = model(inputs)\n",
    "            loss = criterion(outputs, labels)\n",
    "            loss.backward()\n",
    "            optimizer.step()\n",
    "\n",
    "            running_loss += loss.item() * inputs.size(0)\n",
    "            _, predicted = torch.max(outputs, 1)\n",
    "            total += labels.size(0)\n",
    "            correct += (predicted == labels).sum().item()\n",
    "\n",
    "            pbar.set_postfix({\n",
    "                'loss': running_loss/total,\n",
    "                'acc': correct/total\n",
    "            })\n",
    "\n",
    "        train_loss = running_loss / len(train_loader.dataset)\n",
    "        train_acc = correct / total\n",
    "        train_losses.append(train_loss)\n",
    "        train_accs.append(train_acc)\n",
    "\n",
    "        model.eval()\n",
    "        val_loss = 0.0\n",
    "        correct = 0\n",
    "        total = 0\n",
    "\n",
    "        with torch.no_grad():\n",
    "            for inputs, labels in val_loader:\n",
    "                inputs, labels = inputs.to(device), labels.to(device)\n",
    "                outputs = model(inputs)\n",
    "                loss = criterion(outputs, labels)\n",
    "\n",
    "                val_loss += loss.item() * inputs.size(0)\n",
    "                _, predicted = torch.max(outputs, 1)\n",
    "                total += labels.size(0)\n",
    "                correct += (predicted == labels).sum().item()\n",
    "\n",
    "        val_loss /= len(val_loader.dataset)\n",
    "        val_acc = correct / total\n",
    "        val_losses.append(val_loss)\n",
    "        val_accs.append(val_acc)\n",
    "\n",
    "        scheduler.step(val_acc)\n",
    "\n",
    "        print(f'Epoch {epoch+1}/{num_epochs}:')\n",
    "        print(f'Train Loss: {train_loss:.4f}, Acc: {train_acc:.4f}')\n",
    "        print(f'Val Loss: {val_loss:.4f}, Acc: {val_acc:.4f}')\n",
    "\n",
    "        # Save best model\n",
    "        if val_acc > best_acc:\n",
    "            best_acc = val_acc\n",
    "            torch.save(model.state_dict(), 'best_model.pth')\n",
    "            print(f'New best model saved with accuracy: {best_acc:.4f}')\n",
    "\n",
    "    return {\n",
    "        'train_losses': train_losses,\n",
    "        'val_losses': val_losses,\n",
    "        'train_accs': train_accs,\n",
    "        'val_accs': val_accs,\n",
    "        'best_acc': best_acc\n",
    "    }"
   ]
  },
  {
   "cell_type": "markdown",
   "metadata": {
    "id": "z9F0VugCs5Qs"
   },
   "source": [
    "## Evaluation and Visualization"
   ]
  },
  {
   "cell_type": "code",
   "execution_count": 6,
   "metadata": {
    "executionInfo": {
     "elapsed": 37,
     "status": "ok",
     "timestamp": 1755945288481,
     "user": {
      "displayName": "Syune Gevorgyan",
      "userId": "11652322420471933876"
     },
     "user_tz": -240
    },
    "id": "lT9hPTQJLxa5"
   },
   "outputs": [],
   "source": [
    "def evaluate_model(model, test_loader, class_names):\n",
    "    model.eval()\n",
    "    all_preds = []\n",
    "    all_labels = []\n",
    "\n",
    "    with torch.no_grad():\n",
    "        for inputs, labels in test_loader:\n",
    "            inputs = inputs.to(device)\n",
    "            outputs = model(inputs)\n",
    "            _, preds = torch.max(outputs, 1)\n",
    "\n",
    "            all_preds.extend(preds.cpu().numpy())\n",
    "            all_labels.extend(labels.numpy())\n",
    "\n",
    "    # Classification report\n",
    "    print(\"Classification Report:\")\n",
    "    print(classification_report(all_labels, all_preds, target_names=class_names))\n",
    "\n",
    "    # Confusion matrix\n",
    "    cm = confusion_matrix(all_labels, all_preds)\n",
    "    plt.figure(figsize=(10, 8))\n",
    "    sns.heatmap(cm, annot=True, fmt='d', cmap='Blues',\n",
    "                xticklabels=class_names, yticklabels=class_names)\n",
    "    plt.title('Confusion Matrix')\n",
    "    plt.ylabel('True Label')\n",
    "    plt.xlabel('Predicted Label')\n",
    "    plt.tight_layout()\n",
    "    plt.savefig('confusion_matrix.png')\n",
    "    plt.show()\n",
    "\n",
    "    return all_preds, all_labels\n",
    "\n",
    "def plot_training_history(history):\n",
    "    fig, (ax1, ax2) = plt.subplots(1, 2, figsize=(15, 5))\n",
    "\n",
    "    # Loss plot\n",
    "    ax1.plot(history['train_losses'], label='Train Loss')\n",
    "    ax1.plot(history['val_losses'], label='Validation Loss')\n",
    "    ax1.set_title('Training and Validation Loss')\n",
    "    ax1.set_xlabel('Epoch')\n",
    "    ax1.set_ylabel('Loss')\n",
    "    ax1.legend()\n",
    "\n",
    "    # Accuracy plot\n",
    "    ax2.plot(history['train_accs'], label='Train Accuracy')\n",
    "    ax2.plot(history['val_accs'], label='Validation Accuracy')\n",
    "    ax2.set_title('Training and Validation Accuracy')\n",
    "    ax2.set_xlabel('Epoch')\n",
    "    ax2.set_ylabel('Accuracy')\n",
    "    ax2.legend()\n",
    "\n",
    "    plt.tight_layout()\n",
    "    plt.savefig('training_history.png')\n",
    "    plt.show()"
   ]
  },
  {
   "cell_type": "markdown",
   "metadata": {
    "id": "_TWvTEnZfeVF"
   },
   "source": [
    "## Model Usage and Prediction"
   ]
  },
  {
   "cell_type": "code",
   "execution_count": 7,
   "metadata": {
    "executionInfo": {
     "elapsed": 5,
     "status": "ok",
     "timestamp": 1755945288958,
     "user": {
      "displayName": "Syune Gevorgyan",
      "userId": "11652322420471933876"
     },
     "user_tz": -240
    },
    "id": "dkUZfarwfh87"
   },
   "outputs": [],
   "source": [
    "class WineClassifier:\n",
    "    def __init__(self, model_path, class_names, model_arch='resnet50'):\n",
    "        self.class_names = class_names\n",
    "        self.model = create_model(model_arch, len(class_names), fine_tune=False)\n",
    "        self.model.load_state_dict(torch.load(model_path, map_location=device))\n",
    "        self.model.eval()\n",
    "\n",
    "        self.transform = transforms.Compose([\n",
    "            transforms.Resize((224, 224)),\n",
    "            transforms.ToTensor(),\n",
    "            transforms.Normalize(mean=[0.485, 0.456, 0.406],\n",
    "                               std=[0.229, 0.224, 0.225])\n",
    "        ])\n",
    "\n",
    "    def predict(self, image_path):\n",
    "        image = Image.open(image_path).convert('RGB')\n",
    "        image_tensor = self.transform(image).unsqueeze(0).to(device)\n",
    "\n",
    "        with torch.no_grad():\n",
    "            outputs = self.model(image_tensor)\n",
    "            probabilities = torch.softmax(outputs, dim=1)\n",
    "            confidence, predicted = torch.max(probabilities, 1)\n",
    "\n",
    "        return {\n",
    "            'predicted_class': self.class_names[predicted.item()],\n",
    "            'confidence': confidence.item(),\n",
    "            'probabilities': probabilities.cpu().numpy()[0]\n",
    "        }\n",
    "\n",
    "    def predict_batch(self, image_paths):\n",
    "        results = []\n",
    "        for path in image_paths:\n",
    "            results.append(self.predict(path))\n",
    "        return results"
   ]
  },
  {
   "cell_type": "markdown",
   "metadata": {
    "id": "qu1NLOWrvuF4"
   },
   "source": [
    "## Main Execution Script"
   ]
  },
  {
   "cell_type": "code",
   "execution_count": null,
   "metadata": {
    "colab": {
     "base_uri": "https://localhost:8080/",
     "height": 1000
    },
    "executionInfo": {
     "elapsed": 2834891,
     "status": "ok",
     "timestamp": 1755948124524,
     "user": {
      "displayName": "Syune Gevorgyan",
      "userId": "11652322420471933876"
     },
     "user_tz": -240
    },
    "id": "q2oVHcrpRfeN",
    "outputId": "d994d8a1-e28b-4e1b-89f1-4fdbb864f76e"
   },
   "outputs": [
    {
     "name": "stdout",
     "output_type": "stream",
     "text": [
      "Preparing data...\n",
      "Classes: ['Red', 'White', 'Rose', 'Specialty', 'Sparkling', 'Sake_Rice_wine', 'Icewine', 'Fortified', 'Dessert', 'Champagne']\n",
      "Training samples: 3435\n",
      "Validation samples: 736\n",
      "Test samples: 737\n",
      "Creating model...\n",
      "Starting training...\n"
     ]
    },
    {
     "name": "stderr",
     "output_type": "stream",
     "text": [
      "Epoch 1/25 [Train]: 100%|██████████| 108/108 [02:52<00:00,  1.60s/it, loss=1.53, acc=0.454]\n"
     ]
    },
    {
     "name": "stdout",
     "output_type": "stream",
     "text": [
      "Epoch 1/25:\n",
      "Train Loss: 1.5261, Acc: 0.4544\n",
      "Val Loss: 1.7128, Acc: 0.4402\n",
      "New best model saved with accuracy: 0.4402\n"
     ]
    },
    {
     "name": "stderr",
     "output_type": "stream",
     "text": [
      "Epoch 2/25 [Train]: 100%|██████████| 108/108 [01:55<00:00,  1.07s/it, loss=1.21, acc=0.569]\n"
     ]
    },
    {
     "name": "stdout",
     "output_type": "stream",
     "text": [
      "Epoch 2/25:\n",
      "Train Loss: 1.2100, Acc: 0.5691\n",
      "Val Loss: 1.6422, Acc: 0.3410\n"
     ]
    },
    {
     "name": "stderr",
     "output_type": "stream",
     "text": [
      "Epoch 3/25 [Train]: 100%|██████████| 108/108 [01:43<00:00,  1.04it/s, loss=1.04, acc=0.63]\n"
     ]
    },
    {
     "name": "stdout",
     "output_type": "stream",
     "text": [
      "Epoch 3/25:\n",
      "Train Loss: 1.0357, Acc: 0.6303\n",
      "Val Loss: 1.2943, Acc: 0.5571\n",
      "New best model saved with accuracy: 0.5571\n"
     ]
    },
    {
     "name": "stderr",
     "output_type": "stream",
     "text": [
      "Epoch 4/25 [Train]: 100%|██████████| 108/108 [01:38<00:00,  1.09it/s, loss=0.952, acc=0.664]\n"
     ]
    },
    {
     "name": "stdout",
     "output_type": "stream",
     "text": [
      "Epoch 4/25:\n",
      "Train Loss: 0.9520, Acc: 0.6638\n",
      "Val Loss: 1.0852, Acc: 0.5992\n",
      "New best model saved with accuracy: 0.5992\n"
     ]
    },
    {
     "name": "stderr",
     "output_type": "stream",
     "text": [
      "Epoch 5/25 [Train]: 100%|██████████| 108/108 [01:37<00:00,  1.10it/s, loss=0.841, acc=0.7]\n"
     ]
    },
    {
     "name": "stdout",
     "output_type": "stream",
     "text": [
      "Epoch 5/25:\n",
      "Train Loss: 0.8409, Acc: 0.7001\n",
      "Val Loss: 1.0643, Acc: 0.6617\n",
      "New best model saved with accuracy: 0.6617\n"
     ]
    },
    {
     "name": "stderr",
     "output_type": "stream",
     "text": [
      "Epoch 6/25 [Train]: 100%|██████████| 108/108 [01:35<00:00,  1.13it/s, loss=0.788, acc=0.724]\n"
     ]
    },
    {
     "name": "stdout",
     "output_type": "stream",
     "text": [
      "Epoch 6/25:\n",
      "Train Loss: 0.7877, Acc: 0.7243\n",
      "Val Loss: 1.0758, Acc: 0.6685\n",
      "New best model saved with accuracy: 0.6685\n"
     ]
    },
    {
     "name": "stderr",
     "output_type": "stream",
     "text": [
      "Epoch 7/25 [Train]: 100%|██████████| 108/108 [01:34<00:00,  1.14it/s, loss=0.789, acc=0.72]\n"
     ]
    },
    {
     "name": "stdout",
     "output_type": "stream",
     "text": [
      "Epoch 7/25:\n",
      "Train Loss: 0.7889, Acc: 0.7202\n",
      "Val Loss: 1.2896, Acc: 0.6019\n"
     ]
    },
    {
     "name": "stderr",
     "output_type": "stream",
     "text": [
      "Epoch 8/25 [Train]: 100%|██████████| 108/108 [01:40<00:00,  1.07it/s, loss=0.677, acc=0.764]\n"
     ]
    },
    {
     "name": "stdout",
     "output_type": "stream",
     "text": [
      "Epoch 8/25:\n",
      "Train Loss: 0.6773, Acc: 0.7636\n",
      "Val Loss: 1.0968, Acc: 0.6698\n",
      "New best model saved with accuracy: 0.6698\n"
     ]
    },
    {
     "name": "stderr",
     "output_type": "stream",
     "text": [
      "Epoch 9/25 [Train]: 100%|██████████| 108/108 [01:40<00:00,  1.07it/s, loss=0.675, acc=0.764]\n"
     ]
    },
    {
     "name": "stdout",
     "output_type": "stream",
     "text": [
      "Epoch 9/25:\n",
      "Train Loss: 0.6753, Acc: 0.7645\n",
      "Val Loss: 1.0319, Acc: 0.7160\n",
      "New best model saved with accuracy: 0.7160\n"
     ]
    },
    {
     "name": "stderr",
     "output_type": "stream",
     "text": [
      "Epoch 10/25 [Train]: 100%|██████████| 108/108 [01:35<00:00,  1.14it/s, loss=0.62, acc=0.785]\n"
     ]
    },
    {
     "name": "stdout",
     "output_type": "stream",
     "text": [
      "Epoch 10/25:\n",
      "Train Loss: 0.6196, Acc: 0.7854\n",
      "Val Loss: 0.8939, Acc: 0.7351\n",
      "New best model saved with accuracy: 0.7351\n"
     ]
    },
    {
     "name": "stderr",
     "output_type": "stream",
     "text": [
      "Epoch 11/25 [Train]: 100%|██████████| 108/108 [01:33<00:00,  1.16it/s, loss=0.583, acc=0.802]\n"
     ]
    },
    {
     "name": "stdout",
     "output_type": "stream",
     "text": [
      "Epoch 11/25:\n",
      "Train Loss: 0.5826, Acc: 0.8023\n",
      "Val Loss: 1.3083, Acc: 0.6073\n"
     ]
    },
    {
     "name": "stderr",
     "output_type": "stream",
     "text": [
      "Epoch 12/25 [Train]: 100%|██████████| 108/108 [01:31<00:00,  1.18it/s, loss=0.538, acc=0.817]\n"
     ]
    },
    {
     "name": "stdout",
     "output_type": "stream",
     "text": [
      "Epoch 12/25:\n",
      "Train Loss: 0.5380, Acc: 0.8175\n",
      "Val Loss: 0.9320, Acc: 0.7255\n"
     ]
    },
    {
     "name": "stderr",
     "output_type": "stream",
     "text": [
      "Epoch 13/25 [Train]: 100%|██████████| 108/108 [01:31<00:00,  1.17it/s, loss=0.512, acc=0.816]\n"
     ]
    },
    {
     "name": "stdout",
     "output_type": "stream",
     "text": [
      "Epoch 13/25:\n",
      "Train Loss: 0.5119, Acc: 0.8163\n",
      "Val Loss: 0.9001, Acc: 0.7255\n"
     ]
    },
    {
     "name": "stderr",
     "output_type": "stream",
     "text": [
      "Epoch 14/25 [Train]: 100%|██████████| 108/108 [01:33<00:00,  1.15it/s, loss=0.492, acc=0.829]\n"
     ]
    },
    {
     "name": "stdout",
     "output_type": "stream",
     "text": [
      "Epoch 14/25:\n",
      "Train Loss: 0.4920, Acc: 0.8291\n",
      "Val Loss: 0.8228, Acc: 0.7554\n",
      "New best model saved with accuracy: 0.7554\n"
     ]
    },
    {
     "name": "stderr",
     "output_type": "stream",
     "text": [
      "Epoch 15/25 [Train]: 100%|██████████| 108/108 [01:34<00:00,  1.14it/s, loss=0.51, acc=0.828]\n"
     ]
    },
    {
     "name": "stdout",
     "output_type": "stream",
     "text": [
      "Epoch 15/25:\n",
      "Train Loss: 0.5103, Acc: 0.8279\n",
      "Val Loss: 0.8153, Acc: 0.7582\n",
      "New best model saved with accuracy: 0.7582\n"
     ]
    },
    {
     "name": "stderr",
     "output_type": "stream",
     "text": [
      "Epoch 16/25 [Train]: 100%|██████████| 108/108 [01:33<00:00,  1.15it/s, loss=0.448, acc=0.84]\n"
     ]
    },
    {
     "name": "stdout",
     "output_type": "stream",
     "text": [
      "Epoch 16/25:\n",
      "Train Loss: 0.4484, Acc: 0.8396\n",
      "Val Loss: 0.9997, Acc: 0.7052\n"
     ]
    },
    {
     "name": "stderr",
     "output_type": "stream",
     "text": [
      "Epoch 17/25 [Train]: 100%|██████████| 108/108 [01:33<00:00,  1.15it/s, loss=0.418, acc=0.858]\n"
     ]
    },
    {
     "name": "stdout",
     "output_type": "stream",
     "text": [
      "Epoch 17/25:\n",
      "Train Loss: 0.4178, Acc: 0.8582\n",
      "Val Loss: 0.8641, Acc: 0.7785\n",
      "New best model saved with accuracy: 0.7785\n"
     ]
    },
    {
     "name": "stderr",
     "output_type": "stream",
     "text": [
      "Epoch 18/25 [Train]: 100%|██████████| 108/108 [01:32<00:00,  1.16it/s, loss=0.385, acc=0.871]\n"
     ]
    },
    {
     "name": "stdout",
     "output_type": "stream",
     "text": [
      "Epoch 18/25:\n",
      "Train Loss: 0.3854, Acc: 0.8710\n",
      "Val Loss: 0.9509, Acc: 0.7323\n"
     ]
    },
    {
     "name": "stderr",
     "output_type": "stream",
     "text": [
      "Epoch 19/25 [Train]: 100%|██████████| 108/108 [01:32<00:00,  1.17it/s, loss=0.379, acc=0.872]\n"
     ]
    },
    {
     "name": "stdout",
     "output_type": "stream",
     "text": [
      "Epoch 19/25:\n",
      "Train Loss: 0.3792, Acc: 0.8722\n",
      "Val Loss: 1.4919, Acc: 0.6141\n"
     ]
    },
    {
     "name": "stderr",
     "output_type": "stream",
     "text": [
      "Epoch 20/25 [Train]: 100%|██████████| 108/108 [01:32<00:00,  1.17it/s, loss=0.385, acc=0.877]\n"
     ]
    },
    {
     "name": "stdout",
     "output_type": "stream",
     "text": [
      "Epoch 20/25:\n",
      "Train Loss: 0.3852, Acc: 0.8769\n",
      "Val Loss: 0.9339, Acc: 0.7418\n"
     ]
    },
    {
     "name": "stderr",
     "output_type": "stream",
     "text": [
      "Epoch 21/25 [Train]: 100%|██████████| 108/108 [01:31<00:00,  1.18it/s, loss=0.351, acc=0.885]\n"
     ]
    },
    {
     "name": "stdout",
     "output_type": "stream",
     "text": [
      "Epoch 21/25:\n",
      "Train Loss: 0.3506, Acc: 0.8853\n",
      "Val Loss: 0.8189, Acc: 0.7731\n"
     ]
    },
    {
     "name": "stderr",
     "output_type": "stream",
     "text": [
      "Epoch 22/25 [Train]: 100%|██████████| 108/108 [01:33<00:00,  1.15it/s, loss=0.338, acc=0.879]\n"
     ]
    },
    {
     "name": "stdout",
     "output_type": "stream",
     "text": [
      "Epoch 22/25:\n",
      "Train Loss: 0.3378, Acc: 0.8795\n",
      "Val Loss: 0.6993, Acc: 0.8166\n",
      "New best model saved with accuracy: 0.8166\n"
     ]
    },
    {
     "name": "stderr",
     "output_type": "stream",
     "text": [
      "Epoch 23/25 [Train]: 100%|██████████| 108/108 [01:35<00:00,  1.13it/s, loss=0.347, acc=0.89]\n"
     ]
    },
    {
     "name": "stdout",
     "output_type": "stream",
     "text": [
      "Epoch 23/25:\n",
      "Train Loss: 0.3470, Acc: 0.8900\n",
      "Val Loss: 1.3118, Acc: 0.6590\n"
     ]
    },
    {
     "name": "stderr",
     "output_type": "stream",
     "text": [
      "Epoch 24/25 [Train]: 100%|██████████| 108/108 [01:34<00:00,  1.14it/s, loss=0.319, acc=0.893]\n"
     ]
    },
    {
     "name": "stdout",
     "output_type": "stream",
     "text": [
      "Epoch 24/25:\n",
      "Train Loss: 0.3195, Acc: 0.8934\n",
      "Val Loss: 0.8704, Acc: 0.7745\n"
     ]
    },
    {
     "name": "stderr",
     "output_type": "stream",
     "text": [
      "Epoch 25/25 [Train]: 100%|██████████| 108/108 [01:36<00:00,  1.12it/s, loss=0.296, acc=0.901]\n"
     ]
    },
    {
     "name": "stdout",
     "output_type": "stream",
     "text": [
      "Epoch 25/25:\n",
      "Train Loss: 0.2963, Acc: 0.9007\n",
      "Val Loss: 0.7674, Acc: 0.7690\n"
     ]
    },
    {
     "data": {
      "image/png": "[encoded data removed]",
      "text/plain": [
       "<Figure size 1500x500 with 2 Axes>"
      ]
     },
     "metadata": {},
     "output_type": "display_data"
    },
    {
     "name": "stdout",
     "output_type": "stream",
     "text": [
      "Evaluating on test set...\n",
      "Classification Report:\n",
      "                precision    recall  f1-score   support\n",
      "\n",
      "           Red       0.94      0.88      0.91       273\n",
      "         White       0.92      0.80      0.86       178\n",
      "          Rose       0.91      0.79      0.84        61\n",
      "     Specialty       0.26      0.43      0.32        21\n",
      "     Sparkling       0.65      0.72      0.68        81\n",
      "Sake_Rice_wine       0.73      0.90      0.81        51\n",
      "       Icewine       0.71      0.71      0.71         7\n",
      "     Fortified       0.67      0.72      0.69        25\n",
      "       Dessert       0.26      0.50      0.34        16\n",
      "     Champagne       0.57      0.50      0.53        24\n",
      "\n",
      "      accuracy                           0.80       737\n",
      "     macro avg       0.66      0.70      0.67       737\n",
      "  weighted avg       0.83      0.80      0.81       737\n",
      "\n"
     ]
    },
    {
     "data": {
      "image/png": "[encoded data removed]",
      "text/plain": [
       "<Figure size 1000x800 with 2 Axes>"
      ]
     },
     "metadata": {},
     "output_type": "display_data"
    },
    {
     "name": "stdout",
     "output_type": "stream",
     "text": [
      "Training completed! Model saved as 'wine_classifier_final.pth'\n"
     ]
    }
   ],
   "source": [
    "def main():\n",
    "    DATA_PATH = '/content/drive/MyDrive/Wine_Data/Data'\n",
    "    XLSX_FILE = '/content/drive/MyDrive/Wine_Data/wine_data_1.xlsx'  \n",
    "    MODEL_NAME = \"resnet50\"\n",
    "    NUM_EPOCHS = 25\n",
    "    BATCH_SIZE = 32\n",
    "\n",
    "    print(\"Preparing data...\")\n",
    "    train_loader, val_loader, test_loader, class_names = prepare_data(\n",
    "        DATA_PATH, XLSX_FILE, BATCH_SIZE\n",
    "    )\n",
    "\n",
    "    print(f\"Classes: {class_names}\")\n",
    "    print(f\"Training samples: {len(train_loader.dataset)}\")\n",
    "    print(f\"Validation samples: {len(val_loader.dataset)}\")\n",
    "    print(f\"Test samples: {len(test_loader.dataset)}\")\n",
    "\n",
    "    print(\"Creating model...\")\n",
    "    model = create_model(MODEL_NAME, len(class_names), fine_tune=True)\n",
    "\n",
    "    print(\"Starting training...\")\n",
    "    history = train_model(model, train_loader, val_loader, num_epochs=NUM_EPOCHS)\n",
    "\n",
    "    # Plot training history\n",
    "    plot_training_history(history)\n",
    "\n",
    "    # Load best model for evaluation\n",
    "    model.load_state_dict(torch.load('best_model.pth'))\n",
    "\n",
    "    # Evaluate on test set\n",
    "    print(\"Evaluating on test set...\")\n",
    "    evaluate_model(model, test_loader, class_names)\n",
    "\n",
    "    # Save final model\n",
    "    torch.save({\n",
    "        'model_state_dict': model.state_dict(),\n",
    "        'class_names': class_names,\n",
    "        'model_arch': MODEL_NAME\n",
    "    }, 'wine_classifier_final.pth')\n",
    "\n",
    "    print(\"Training completed! Model saved as 'wine_classifier_final.pth'\")\n",
    "\n",
    "\n",
    "main()"
   ]
  }
 ],
 "metadata": {
  "accelerator": "GPU",
  "colab": {
   "collapsed_sections": [
    "_6bTLaC7Llu2",
    "h0zYZJJ0fdqs"
   ],
   "gpuType": "T4",
   "provenance": []
  },
  "kernelspec": {
   "display_name": "Python 3",
   "name": "python3"
  },
  "language_info": {
   "codemirror_mode": {
    "name": "ipython",
    "version": 3
   },
   "file_extension": ".py",
   "mimetype": "text/x-python",
   "name": "python",
   "nbconvert_exporter": "python",
   "pygments_lexer": "ipython3",
   "version": "3.12.10"
  }
 },
 "nbformat": 4,
 "nbformat_minor": 0
}
