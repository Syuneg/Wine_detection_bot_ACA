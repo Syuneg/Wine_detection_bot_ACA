{
 "cells": [
  {
   "cell_type": "code",
   "execution_count": 12,
   "id": "0dbb9334",
   "metadata": {},
   "outputs": [],
   "source": [
    "import os, json, random, math, glob, re, shutil\n",
    "import pandas as pd\n",
    "from PIL import Image\n",
    "\n",
    "import matplotlib.pyplot as plt\n",
    "import seaborn as sns"
   ]
  },
  {
   "cell_type": "markdown",
   "id": "40c1821b",
   "metadata": {},
   "source": [
    "Display the first few rows, check the data types, and look for missing values."
   ]
  },
  {
   "cell_type": "code",
   "execution_count": 13,
   "id": "825a0dcc",
   "metadata": {},
   "outputs": [
    {
     "data": {
      "text/html": [
       "<div>\n",
       "<style scoped>\n",
       "    .dataframe tbody tr th:only-of-type {\n",
       "        vertical-align: middle;\n",
       "    }\n",
       "\n",
       "    .dataframe tbody tr th {\n",
       "        vertical-align: top;\n",
       "    }\n",
       "\n",
       "    .dataframe thead th {\n",
       "        text-align: right;\n",
       "    }\n",
       "</style>\n",
       "<table border=\"1\" class=\"dataframe\">\n",
       "  <thead>\n",
       "    <tr style=\"text-align: right;\">\n",
       "      <th></th>\n",
       "      <th>Unnamed: 0</th>\n",
       "      <th>image_path</th>\n",
       "      <th>file_name</th>\n",
       "      <th>Name</th>\n",
       "      <th>Brand</th>\n",
       "      <th>Type</th>\n",
       "      <th>Country</th>\n",
       "    </tr>\n",
       "  </thead>\n",
       "  <tbody>\n",
       "    <tr>\n",
       "      <th>0</th>\n",
       "      <td>0</td>\n",
       "      <td>C:\\Users\\syune\\OneDrive\\Desktop\\Wine_Data/Data...</td>\n",
       "      <td>100503.json</td>\n",
       "      <td>Bollinger Brut Rosé Champagne</td>\n",
       "      <td>Bollinger</td>\n",
       "      <td>Champagne</td>\n",
       "      <td>France</td>\n",
       "    </tr>\n",
       "    <tr>\n",
       "      <th>1</th>\n",
       "      <td>1</td>\n",
       "      <td>NaN</td>\n",
       "      <td>106583.json</td>\n",
       "      <td>Charles Ellner Séduction Brut Champagne 2007</td>\n",
       "      <td>Charles Ellne</td>\n",
       "      <td>Champagne</td>\n",
       "      <td>France</td>\n",
       "    </tr>\n",
       "    <tr>\n",
       "      <th>2</th>\n",
       "      <td>2</td>\n",
       "      <td>C:\\Users\\syune\\OneDrive\\Desktop\\Wine_Data/Data...</td>\n",
       "      <td>111294.json</td>\n",
       "      <td>Moët &amp; Chandon Brut Imperial Champagne</td>\n",
       "      <td>Moet &amp; Chandon</td>\n",
       "      <td>Champagne</td>\n",
       "      <td>France</td>\n",
       "    </tr>\n",
       "    <tr>\n",
       "      <th>3</th>\n",
       "      <td>3</td>\n",
       "      <td>C:\\Users\\syune\\OneDrive\\Desktop\\Wine_Data/Data...</td>\n",
       "      <td>12619.json</td>\n",
       "      <td>Vilmart et Cie Grande Réserve 1er Cru Champagne</td>\n",
       "      <td>Vintages Front Line Release</td>\n",
       "      <td>Champagne</td>\n",
       "      <td>France</td>\n",
       "    </tr>\n",
       "    <tr>\n",
       "      <th>4</th>\n",
       "      <td>4</td>\n",
       "      <td>C:\\Users\\syune\\OneDrive\\Desktop\\Wine_Data/Data...</td>\n",
       "      <td>135798.json</td>\n",
       "      <td>Perrier-Jouët Belle Epoque Brut Champagne 2016</td>\n",
       "      <td>Vintages Classic Catalogue</td>\n",
       "      <td>Champagne</td>\n",
       "      <td>France</td>\n",
       "    </tr>\n",
       "    <tr>\n",
       "      <th>...</th>\n",
       "      <td>...</td>\n",
       "      <td>...</td>\n",
       "      <td>...</td>\n",
       "      <td>...</td>\n",
       "      <td>...</td>\n",
       "      <td>...</td>\n",
       "      <td>...</td>\n",
       "    </tr>\n",
       "    <tr>\n",
       "      <th>5397</th>\n",
       "      <td>5397</td>\n",
       "      <td>C:\\Users\\syune\\OneDrive\\Desktop\\Wine_Data/Data...</td>\n",
       "      <td>99309.json</td>\n",
       "      <td>Leyda Garuma Coastal Vineyards Sauvignon Blanc...</td>\n",
       "      <td>Vintages Front Line Release</td>\n",
       "      <td>White</td>\n",
       "      <td>Chile</td>\n",
       "    </tr>\n",
       "    <tr>\n",
       "      <th>5398</th>\n",
       "      <td>5398</td>\n",
       "      <td>C:\\Users\\syune\\OneDrive\\Desktop\\Wine_Data/Data...</td>\n",
       "      <td>994012.json</td>\n",
       "      <td>Falchini Vigna a Solatìo Vernaccia di San Gimi...</td>\n",
       "      <td>Vintages Front Line Release</td>\n",
       "      <td>White</td>\n",
       "      <td>Italy</td>\n",
       "    </tr>\n",
       "    <tr>\n",
       "      <th>5399</th>\n",
       "      <td>5399</td>\n",
       "      <td>C:\\Users\\syune\\OneDrive\\Desktop\\Wine_Data/Data...</td>\n",
       "      <td>994939.json</td>\n",
       "      <td>Greywacke Marlborough Pinot Gris 2023</td>\n",
       "      <td>Vintages Front Line Release</td>\n",
       "      <td>White</td>\n",
       "      <td>New Zealand</td>\n",
       "    </tr>\n",
       "    <tr>\n",
       "      <th>5400</th>\n",
       "      <td>5400</td>\n",
       "      <td>C:\\Users\\syune\\OneDrive\\Desktop\\Wine_Data/Data...</td>\n",
       "      <td>998583.json</td>\n",
       "      <td>Gaja Rossj-Bass 2023</td>\n",
       "      <td>Gaja</td>\n",
       "      <td>White</td>\n",
       "      <td>Italy</td>\n",
       "    </tr>\n",
       "    <tr>\n",
       "      <th>5401</th>\n",
       "      <td>5401</td>\n",
       "      <td>C:\\Users\\syune\\OneDrive\\Desktop\\Wine_Data/Data...</td>\n",
       "      <td>999979.json</td>\n",
       "      <td>Bersano Mirage Gavi di Gavi 2021</td>\n",
       "      <td>Bersano</td>\n",
       "      <td>White</td>\n",
       "      <td>Italy</td>\n",
       "    </tr>\n",
       "  </tbody>\n",
       "</table>\n",
       "<p>5402 rows × 7 columns</p>\n",
       "</div>"
      ],
      "text/plain": [
       "      Unnamed: 0                                         image_path  \\\n",
       "0              0  C:\\Users\\syune\\OneDrive\\Desktop\\Wine_Data/Data...   \n",
       "1              1                                                NaN   \n",
       "2              2  C:\\Users\\syune\\OneDrive\\Desktop\\Wine_Data/Data...   \n",
       "3              3  C:\\Users\\syune\\OneDrive\\Desktop\\Wine_Data/Data...   \n",
       "4              4  C:\\Users\\syune\\OneDrive\\Desktop\\Wine_Data/Data...   \n",
       "...          ...                                                ...   \n",
       "5397        5397  C:\\Users\\syune\\OneDrive\\Desktop\\Wine_Data/Data...   \n",
       "5398        5398  C:\\Users\\syune\\OneDrive\\Desktop\\Wine_Data/Data...   \n",
       "5399        5399  C:\\Users\\syune\\OneDrive\\Desktop\\Wine_Data/Data...   \n",
       "5400        5400  C:\\Users\\syune\\OneDrive\\Desktop\\Wine_Data/Data...   \n",
       "5401        5401  C:\\Users\\syune\\OneDrive\\Desktop\\Wine_Data/Data...   \n",
       "\n",
       "        file_name                                               Name  \\\n",
       "0     100503.json                      Bollinger Brut Rosé Champagne   \n",
       "1     106583.json       Charles Ellner Séduction Brut Champagne 2007   \n",
       "2     111294.json             Moët & Chandon Brut Imperial Champagne   \n",
       "3      12619.json    Vilmart et Cie Grande Réserve 1er Cru Champagne   \n",
       "4     135798.json     Perrier-Jouët Belle Epoque Brut Champagne 2016   \n",
       "...           ...                                                ...   \n",
       "5397   99309.json  Leyda Garuma Coastal Vineyards Sauvignon Blanc...   \n",
       "5398  994012.json  Falchini Vigna a Solatìo Vernaccia di San Gimi...   \n",
       "5399  994939.json              Greywacke Marlborough Pinot Gris 2023   \n",
       "5400  998583.json                               Gaja Rossj-Bass 2023   \n",
       "5401  999979.json                   Bersano Mirage Gavi di Gavi 2021   \n",
       "\n",
       "                            Brand       Type      Country  \n",
       "0                       Bollinger  Champagne       France  \n",
       "1                   Charles Ellne  Champagne       France  \n",
       "2                  Moet & Chandon  Champagne       France  \n",
       "3     Vintages Front Line Release  Champagne       France  \n",
       "4      Vintages Classic Catalogue  Champagne       France  \n",
       "...                           ...        ...          ...  \n",
       "5397  Vintages Front Line Release      White        Chile  \n",
       "5398  Vintages Front Line Release      White        Italy  \n",
       "5399  Vintages Front Line Release      White  New Zealand  \n",
       "5400                         Gaja      White        Italy  \n",
       "5401                      Bersano      White        Italy  \n",
       "\n",
       "[5402 rows x 7 columns]"
      ]
     },
     "execution_count": 13,
     "metadata": {},
     "output_type": "execute_result"
    }
   ],
   "source": [
    "df_json = pd.read_excel(r'C:\\Users\\syune\\OneDrive\\Desktop\\Wine_Data/wine_data.xlsx')\n",
    "df_json"
   ]
  },
  {
   "cell_type": "code",
   "execution_count": 14,
   "id": "65570297",
   "metadata": {},
   "outputs": [
    {
     "name": "stdout",
     "output_type": "stream",
     "text": [
      "First 5 rows of the DataFrame:\n"
     ]
    },
    {
     "data": {
      "text/html": [
       "<div>\n",
       "<style scoped>\n",
       "    .dataframe tbody tr th:only-of-type {\n",
       "        vertical-align: middle;\n",
       "    }\n",
       "\n",
       "    .dataframe tbody tr th {\n",
       "        vertical-align: top;\n",
       "    }\n",
       "\n",
       "    .dataframe thead th {\n",
       "        text-align: right;\n",
       "    }\n",
       "</style>\n",
       "<table border=\"1\" class=\"dataframe\">\n",
       "  <thead>\n",
       "    <tr style=\"text-align: right;\">\n",
       "      <th></th>\n",
       "      <th>Unnamed: 0</th>\n",
       "      <th>image_path</th>\n",
       "      <th>file_name</th>\n",
       "      <th>Name</th>\n",
       "      <th>Brand</th>\n",
       "      <th>Type</th>\n",
       "      <th>Country</th>\n",
       "    </tr>\n",
       "  </thead>\n",
       "  <tbody>\n",
       "    <tr>\n",
       "      <th>0</th>\n",
       "      <td>0</td>\n",
       "      <td>C:\\Users\\syune\\OneDrive\\Desktop\\Wine_Data/Data...</td>\n",
       "      <td>100503.json</td>\n",
       "      <td>Bollinger Brut Rosé Champagne</td>\n",
       "      <td>Bollinger</td>\n",
       "      <td>Champagne</td>\n",
       "      <td>France</td>\n",
       "    </tr>\n",
       "    <tr>\n",
       "      <th>1</th>\n",
       "      <td>1</td>\n",
       "      <td>NaN</td>\n",
       "      <td>106583.json</td>\n",
       "      <td>Charles Ellner Séduction Brut Champagne 2007</td>\n",
       "      <td>Charles Ellne</td>\n",
       "      <td>Champagne</td>\n",
       "      <td>France</td>\n",
       "    </tr>\n",
       "    <tr>\n",
       "      <th>2</th>\n",
       "      <td>2</td>\n",
       "      <td>C:\\Users\\syune\\OneDrive\\Desktop\\Wine_Data/Data...</td>\n",
       "      <td>111294.json</td>\n",
       "      <td>Moët &amp; Chandon Brut Imperial Champagne</td>\n",
       "      <td>Moet &amp; Chandon</td>\n",
       "      <td>Champagne</td>\n",
       "      <td>France</td>\n",
       "    </tr>\n",
       "    <tr>\n",
       "      <th>3</th>\n",
       "      <td>3</td>\n",
       "      <td>C:\\Users\\syune\\OneDrive\\Desktop\\Wine_Data/Data...</td>\n",
       "      <td>12619.json</td>\n",
       "      <td>Vilmart et Cie Grande Réserve 1er Cru Champagne</td>\n",
       "      <td>Vintages Front Line Release</td>\n",
       "      <td>Champagne</td>\n",
       "      <td>France</td>\n",
       "    </tr>\n",
       "    <tr>\n",
       "      <th>4</th>\n",
       "      <td>4</td>\n",
       "      <td>C:\\Users\\syune\\OneDrive\\Desktop\\Wine_Data/Data...</td>\n",
       "      <td>135798.json</td>\n",
       "      <td>Perrier-Jouët Belle Epoque Brut Champagne 2016</td>\n",
       "      <td>Vintages Classic Catalogue</td>\n",
       "      <td>Champagne</td>\n",
       "      <td>France</td>\n",
       "    </tr>\n",
       "  </tbody>\n",
       "</table>\n",
       "</div>"
      ],
      "text/plain": [
       "   Unnamed: 0                                         image_path    file_name  \\\n",
       "0           0  C:\\Users\\syune\\OneDrive\\Desktop\\Wine_Data/Data...  100503.json   \n",
       "1           1                                                NaN  106583.json   \n",
       "2           2  C:\\Users\\syune\\OneDrive\\Desktop\\Wine_Data/Data...  111294.json   \n",
       "3           3  C:\\Users\\syune\\OneDrive\\Desktop\\Wine_Data/Data...   12619.json   \n",
       "4           4  C:\\Users\\syune\\OneDrive\\Desktop\\Wine_Data/Data...  135798.json   \n",
       "\n",
       "                                              Name  \\\n",
       "0                    Bollinger Brut Rosé Champagne   \n",
       "1     Charles Ellner Séduction Brut Champagne 2007   \n",
       "2           Moët & Chandon Brut Imperial Champagne   \n",
       "3  Vilmart et Cie Grande Réserve 1er Cru Champagne   \n",
       "4   Perrier-Jouët Belle Epoque Brut Champagne 2016   \n",
       "\n",
       "                         Brand       Type Country  \n",
       "0                    Bollinger  Champagne  France  \n",
       "1                Charles Ellne  Champagne  France  \n",
       "2               Moet & Chandon  Champagne  France  \n",
       "3  Vintages Front Line Release  Champagne  France  \n",
       "4   Vintages Classic Catalogue  Champagne  France  "
      ]
     },
     "metadata": {},
     "output_type": "display_data"
    },
    {
     "name": "stdout",
     "output_type": "stream",
     "text": [
      "\n",
      "Data types of each column:\n",
      "<class 'pandas.core.frame.DataFrame'>\n",
      "RangeIndex: 5402 entries, 0 to 5401\n",
      "Data columns (total 7 columns):\n",
      " #   Column      Non-Null Count  Dtype \n",
      "---  ------      --------------  ----- \n",
      " 0   Unnamed: 0  5402 non-null   int64 \n",
      " 1   image_path  4908 non-null   object\n",
      " 2   file_name   5402 non-null   object\n",
      " 3   Name        5402 non-null   object\n",
      " 4   Brand       2833 non-null   object\n",
      " 5   Type        5402 non-null   object\n",
      " 6   Country     5399 non-null   object\n",
      "dtypes: int64(1), object(6)\n",
      "memory usage: 295.6+ KB\n"
     ]
    },
    {
     "data": {
      "text/plain": [
       "None"
      ]
     },
     "metadata": {},
     "output_type": "display_data"
    },
    {
     "name": "stdout",
     "output_type": "stream",
     "text": [
      "\n",
      "Number of missing values in each column:\n"
     ]
    },
    {
     "data": {
      "text/plain": [
       "Unnamed: 0       0\n",
       "image_path     494\n",
       "file_name        0\n",
       "Name             0\n",
       "Brand         2569\n",
       "Type             0\n",
       "Country          3\n",
       "dtype: int64"
      ]
     },
     "metadata": {},
     "output_type": "display_data"
    }
   ],
   "source": [
    "# Display the first 5 rows\n",
    "print(\"First 5 rows of the DataFrame:\")\n",
    "display(df_json.head())\n",
    "\n",
    "# Print the data types\n",
    "print(\"\\nData types of each column:\")\n",
    "display(df_json.info())\n",
    "\n",
    "# Calculate missing values\n",
    "print(\"\\nNumber of missing values in each column:\")\n",
    "display(df_json.isnull().sum())"
   ]
  },
  {
   "cell_type": "markdown",
   "id": "33a01260",
   "metadata": {},
   "source": [
    "Calculate and display descriptive statistics for both numerical and categorical columns in `df_json`. Since all columns are currently objects, the numerical description will not be meaningful, but the categorical description will provide useful insights into the data distribution of object type columns."
   ]
  },
  {
   "cell_type": "code",
   "execution_count": 16,
   "id": "3eb8097f",
   "metadata": {},
   "outputs": [
    {
     "name": "stdout",
     "output_type": "stream",
     "text": [
      "\n",
      "Descriptive statistics:\n"
     ]
    },
    {
     "data": {
      "text/html": [
       "<div>\n",
       "<style scoped>\n",
       "    .dataframe tbody tr th:only-of-type {\n",
       "        vertical-align: middle;\n",
       "    }\n",
       "\n",
       "    .dataframe tbody tr th {\n",
       "        vertical-align: top;\n",
       "    }\n",
       "\n",
       "    .dataframe thead th {\n",
       "        text-align: right;\n",
       "    }\n",
       "</style>\n",
       "<table border=\"1\" class=\"dataframe\">\n",
       "  <thead>\n",
       "    <tr style=\"text-align: right;\">\n",
       "      <th></th>\n",
       "      <th>image_path</th>\n",
       "      <th>file_name</th>\n",
       "      <th>Name</th>\n",
       "      <th>Brand</th>\n",
       "      <th>Type</th>\n",
       "      <th>Country</th>\n",
       "    </tr>\n",
       "  </thead>\n",
       "  <tbody>\n",
       "    <tr>\n",
       "      <th>count</th>\n",
       "      <td>4908</td>\n",
       "      <td>5402</td>\n",
       "      <td>5402</td>\n",
       "      <td>2833</td>\n",
       "      <td>5402</td>\n",
       "      <td>5399</td>\n",
       "    </tr>\n",
       "    <tr>\n",
       "      <th>unique</th>\n",
       "      <td>4908</td>\n",
       "      <td>5367</td>\n",
       "      <td>4971</td>\n",
       "      <td>1501</td>\n",
       "      <td>10</td>\n",
       "      <td>45</td>\n",
       "    </tr>\n",
       "    <tr>\n",
       "      <th>top</th>\n",
       "      <td>C:\\Users\\syune\\OneDrive\\Desktop\\Wine_Data/Data...</td>\n",
       "      <td>10812.json</td>\n",
       "      <td>Cabernet Sauvignon</td>\n",
       "      <td>Vintages Front Line Release</td>\n",
       "      <td>Red</td>\n",
       "      <td>France</td>\n",
       "    </tr>\n",
       "    <tr>\n",
       "      <th>freq</th>\n",
       "      <td>1</td>\n",
       "      <td>2</td>\n",
       "      <td>28</td>\n",
       "      <td>262</td>\n",
       "      <td>2071</td>\n",
       "      <td>1155</td>\n",
       "    </tr>\n",
       "  </tbody>\n",
       "</table>\n",
       "</div>"
      ],
      "text/plain": [
       "                                               image_path   file_name  \\\n",
       "count                                                4908        5402   \n",
       "unique                                               4908        5367   \n",
       "top     C:\\Users\\syune\\OneDrive\\Desktop\\Wine_Data/Data...  10812.json   \n",
       "freq                                                    1           2   \n",
       "\n",
       "                      Name                        Brand  Type Country  \n",
       "count                 5402                         2833  5402    5399  \n",
       "unique                4971                         1501    10      45  \n",
       "top     Cabernet Sauvignon  Vintages Front Line Release   Red  France  \n",
       "freq                    28                          262  2071    1155  "
      ]
     },
     "metadata": {},
     "output_type": "display_data"
    }
   ],
   "source": [
    "# Calculate and display descriptive statistics\n",
    "print(\"\\nDescriptive statistics:\")\n",
    "display(df_json.describe(include='object'))"
   ]
  },
  {
   "cell_type": "markdown",
   "id": "df418ccc",
   "metadata": {},
   "source": [
    "Use the value_counts() method to count the occurrences of each unique wine type in the 'Type' column and display the result."
   ]
  },
  {
   "cell_type": "code",
   "execution_count": 17,
   "id": "14ef4ce6",
   "metadata": {},
   "outputs": [
    {
     "name": "stdout",
     "output_type": "stream",
     "text": [
      "Occurrences of each wine type:\n"
     ]
    },
    {
     "data": {
      "text/plain": [
       "Type\n",
       "Red               2071\n",
       "White             1278\n",
       "Sparkling          564\n",
       "Rose               425\n",
       "Sake_Rice_wine     354\n",
       "Champagne          210\n",
       "Fortified          193\n",
       "Specialty          143\n",
       "Dessert            113\n",
       "Icewine             51\n",
       "Name: count, dtype: int64"
      ]
     },
     "metadata": {},
     "output_type": "display_data"
    }
   ],
   "source": [
    "wine_type_counts = df_json['Type'].value_counts()\n",
    "print(\"Occurrences of each wine type:\")\n",
    "display(wine_type_counts)"
   ]
  },
  {
   "cell_type": "markdown",
   "id": "0e1e82e8",
   "metadata": {},
   "source": [
    "Count the occurrences of each country using value_counts() and print the result."
   ]
  },
  {
   "cell_type": "code",
   "execution_count": 18,
   "id": "b1491922",
   "metadata": {},
   "outputs": [
    {
     "name": "stdout",
     "output_type": "stream",
     "text": [
      "Occurrences of each country:\n"
     ]
    },
    {
     "data": {
      "text/plain": [
       "Country\n",
       "France            1155\n",
       "Italy              773\n",
       "Canada             673\n",
       "Portugal           369\n",
       "Japan              302\n",
       "Spain              281\n",
       "United States      265\n",
       "Australia          231\n",
       "Chile              212\n",
       "Greece             170\n",
       "Argentina          151\n",
       "New Zealand        143\n",
       "Germany            134\n",
       "South Africa       129\n",
       "Austria             90\n",
       "Israel              57\n",
       "Brazil              48\n",
       "Hungary             43\n",
       "Croatia             25\n",
       "Georgia             22\n",
       "Armenia             19\n",
       "South Korea         12\n",
       "Uruguay             12\n",
       "Ukraine             11\n",
       "Lebanon              9\n",
       "Mexico               8\n",
       "Slovenia             8\n",
       "Romania              7\n",
       "Russia               7\n",
       "Malta                5\n",
       "Switzerland          4\n",
       "China                4\n",
       "United Kingdom       3\n",
       "Czech Republic       2\n",
       "Poland               2\n",
       "Cyprus               2\n",
       "Moldova              2\n",
       "India                2\n",
       "Turkey               1\n",
       "Ireland              1\n",
       "Bulgaria             1\n",
       "Luxembourg           1\n",
       "Netherlands          1\n",
       "Jamaica              1\n",
       "Serbia               1\n",
       "Name: count, dtype: int64"
      ]
     },
     "metadata": {},
     "output_type": "display_data"
    }
   ],
   "source": [
    "country_counts = df_json['Country'].value_counts()\n",
    "print(\"Occurrences of each country:\")\n",
    "display(country_counts)"
   ]
  },
  {
   "cell_type": "code",
   "execution_count": 19,
   "id": "920fabb1",
   "metadata": {},
   "outputs": [
    {
     "name": "stdout",
     "output_type": "stream",
     "text": [
      "Country\n",
      "France           1155\n",
      "Italy             773\n",
      "Canada            673\n",
      "Other             414\n",
      "Portugal          369\n",
      "Japan             302\n",
      "Spain             281\n",
      "United States     265\n",
      "Australia         231\n",
      "Chile             212\n",
      "Greece            170\n",
      "Argentina         151\n",
      "New Zealand       143\n",
      "Germany           134\n",
      "South Africa      129\n",
      "Name: count, dtype: int64\n"
     ]
    }
   ],
   "source": [
    "# Change where country has less than 100 samples and say just other\n",
    "min_count = 100\n",
    "region_counts = df_json['Country'].value_counts()\n",
    "\n",
    "def map_region(x):\n",
    "    if pd.isna(x):\n",
    "        return 'Other'\n",
    "    elif region_counts.get(x, 0) < min_count:\n",
    "        return 'Other'\n",
    "    else:\n",
    "        return x\n",
    "\n",
    "df_json['Country'] = df_json['Country'].apply(map_region)\n",
    "\n",
    "print(df_json['Country'].value_counts())\n"
   ]
  },
  {
   "cell_type": "code",
   "execution_count": 20,
   "id": "ac8a65fe",
   "metadata": {},
   "outputs": [
    {
     "name": "stdout",
     "output_type": "stream",
     "text": [
      "Top 10 most frequent brands:\n"
     ]
    },
    {
     "data": {
      "text/plain": [
       "Brand\n",
       "Vintages Front Line Release    262\n",
       "Private Stock                   93\n",
       "Jackson-Triggs                  21\n",
       "Santa Carolina                  21\n",
       "Peller Family Vineyards         19\n",
       "Jacob's Creek                   17\n",
       "Yellow Tail                     14\n",
       "Martini & Rossi                 12\n",
       "Veuve Clicquot                  12\n",
       "Pelee Island                    12\n",
       "Name: count, dtype: int64"
      ]
     },
     "metadata": {},
     "output_type": "display_data"
    }
   ],
   "source": [
    "brand_counts = df_json['Brand'].value_counts()\n",
    "print(\"Top 10 most frequent brands:\")\n",
    "display(brand_counts.head(10))"
   ]
  },
  {
   "cell_type": "markdown",
   "id": "12099175",
   "metadata": {},
   "source": [
    "There is no logic to try to predict brand, there are too much unique values."
   ]
  },
  {
   "cell_type": "markdown",
   "id": "c0cb153d",
   "metadata": {},
   "source": [
    "*   All columns in the dataset are of the 'object' data type.\n",
    "\n",
    "> Add blockquote\n",
    "\n",
    "\n",
    "*   Significant missing values exist in the 'Brand' column (2569). The 'Country' column has 2 missing values.\n",
    "*   The dataset contains a diverse range of wine types, with varying frequencies.\n",
    "*   Multiple countries are represented in the dataset, with differing numbers of entries.\n",
    "*   The top brand is \"Vintages Front Line Release\" with 262 occurrences.\n",
    "\n",
    "`Insights or Next Steps`\n",
    "\n",
    "*   There is no logic to try to predict brand, there are too much unique values.\n",
    "*   Consider converting relevant columns to appropriate data types (e.g., numerical if applicable) for further quantitative analysis.\n"
   ]
  },
  {
   "cell_type": "code",
   "execution_count": 21,
   "id": "89de42e5",
   "metadata": {},
   "outputs": [
    {
     "name": "stderr",
     "output_type": "stream",
     "text": [
      "C:\\Users\\syune\\AppData\\Local\\Temp\\ipykernel_32196\\11368527.py:3: FutureWarning: \n",
      "\n",
      "Passing `palette` without assigning `hue` is deprecated and will be removed in v0.14.0. Assign the `y` variable to `hue` and set `legend=False` for the same effect.\n",
      "\n",
      "  sns.countplot(data=df_json, y='Type', order=df_json['Type'].value_counts().index, palette='viridis')\n"
     ]
    },
    {
     "data": {
      "image/png": "[encoded data removed]",
      "text/plain": [
       "<Figure size 1000x600 with 1 Axes>"
      ]
     },
     "metadata": {},
     "output_type": "display_data"
    },
    {
     "name": "stderr",
     "output_type": "stream",
     "text": [
      "C:\\Users\\syune\\AppData\\Local\\Temp\\ipykernel_32196\\11368527.py:11: FutureWarning: \n",
      "\n",
      "Passing `palette` without assigning `hue` is deprecated and will be removed in v0.14.0. Assign the `y` variable to `hue` and set `legend=False` for the same effect.\n",
      "\n",
      "  sns.countplot(data=df_json, y='Country', order=df_json['Country'].value_counts().index, palette='viridis')\n"
     ]
    },
    {
     "data": {
      "image/png": "[encoded data removed]",
      "text/plain": [
       "<Figure size 1200x800 with 1 Axes>"
      ]
     },
     "metadata": {},
     "output_type": "display_data"
    }
   ],
   "source": [
    "# Plotting the distribution of wine types\n",
    "plt.figure(figsize=(10, 6))\n",
    "sns.countplot(data=df_json, y='Type', order=df_json['Type'].value_counts().index, palette='viridis')\n",
    "plt.title('Distribution of Wine Types')\n",
    "plt.xlabel('Count')\n",
    "plt.ylabel('Wine Type')\n",
    "plt.show()\n",
    "\n",
    "# Plotting the distribution of countries\n",
    "plt.figure(figsize=(12, 8))\n",
    "sns.countplot(data=df_json, y='Country', order=df_json['Country'].value_counts().index, palette='viridis')\n",
    "plt.title('Distribution of Countries')\n",
    "plt.xlabel('Count')\n",
    "plt.ylabel('Country')\n",
    "plt.show()"
   ]
  }
 ],
 "metadata": {
  "kernelspec": {
   "display_name": "Python 3",
   "language": "python",
   "name": "python3"
  },
  "language_info": {
   "codemirror_mode": {
    "name": "ipython",
    "version": 3
   },
   "file_extension": ".py",
   "mimetype": "text/x-python",
   "name": "python",
   "nbconvert_exporter": "python",
   "pygments_lexer": "ipython3",
   "version": "3.12.10"
  }
 },
 "nbformat": 4,
 "nbformat_minor": 5
}
